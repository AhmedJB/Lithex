{
 "cells": [
  {
   "cell_type": "code",
   "execution_count": 12,
   "id": "2763b95c",
   "metadata": {},
   "outputs": [],
   "source": [
    "token = \"a42bd1d9e2364e32b47e3339d6f54329\"\n",
    "coins = {\n",
    "    \"btc\": \"btc\",\n",
    "    \"eth\" : \"eth\",\n",
    "    \"btcTest\" : \"bcy\",\n",
    "}"
   ]
  },
  {
   "cell_type": "code",
   "execution_count": 2,
   "id": "dd8ee04f",
   "metadata": {},
   "outputs": [],
   "source": [
    "from blockcypher import *"
   ]
  },
  {
   "cell_type": "markdown",
   "id": "e170e586",
   "metadata": {},
   "source": [
    "<h1> Generate Address </h1>"
   ]
  },
  {
   "cell_type": "code",
   "execution_count": 13,
   "id": "3766b293",
   "metadata": {},
   "outputs": [
    {
     "name": "stdout",
     "output_type": "stream",
     "text": [
      "{'private': '6f7e3c291c68eaeded1a22aea6496e7a71d58164d00a9f25e7caa66be96fe515', 'public': '025983e8ddc95a44488e1ef1d2f9f99337a62c3bc158fae188881d3196de11213c', 'address': 'Bv3hEzWsDuU1bmGm9p2eVB4RheE7CeYUtD', 'wif': 'Bs4kxsFxufxruRJha9g2LMyw5f6ReAHQ2xYcVFD2rtB11rspE4Hd'}\n"
     ]
    }
   ],
   "source": [
    "addr = generate_new_address(coins['btcTest'],api_key=token)\n",
    "print(addr)"
   ]
  },
  {
   "cell_type": "code",
   "execution_count": 16,
   "id": "8fb4412d",
   "metadata": {},
   "outputs": [
    {
     "name": "stdout",
     "output_type": "stream",
     "text": [
      "{'tx_ref': '36a3a5d741aa808faa0286c5b9dc3c4e24c5b2aced7c619740388d2cee0d604e'}\n"
     ]
    }
   ],
   "source": [
    "# faucet fund\n",
    "tx = send_faucet_coins(address_to_fund=addr['address'], satoshis=10**8, api_key = token, coin_symbol=coins['btcTest'])\n",
    "print(tx)"
   ]
  },
  {
   "cell_type": "code",
   "execution_count": 21,
   "id": "36a0077b",
   "metadata": {},
   "outputs": [],
   "source": [
    "# get_details\n",
    "address_details = get_address_overview(addr['address'],coin_symbol=coins['btcTest'],api_key=token)"
   ]
  },
  {
   "cell_type": "code",
   "execution_count": 23,
   "id": "5500a20d",
   "metadata": {},
   "outputs": [],
   "source": [
    "# confirmed balance \n",
    "balance = get_confirmed_balance(addr['address'],coin_symbol=coins['btcTest'],api_key=token)"
   ]
  },
  {
   "cell_type": "code",
   "execution_count": 24,
   "id": "086b5a48",
   "metadata": {},
   "outputs": [
    {
     "data": {
      "text/plain": [
       "100000000"
      ]
     },
     "execution_count": 24,
     "metadata": {},
     "output_type": "execute_result"
    }
   ],
   "source": [
    "balance"
   ]
  },
  {
   "cell_type": "markdown",
   "id": "383f501a",
   "metadata": {},
   "source": [
    "<h1>Transfer the balance </h1>"
   ]
  },
  {
   "cell_type": "code",
   "execution_count": 25,
   "id": "7bb4246d",
   "metadata": {},
   "outputs": [
    {
     "name": "stdout",
     "output_type": "stream",
     "text": [
      "{'private': '34ee7261b3799a6076280dd33b31ab5a237849040140efda5f3156d19e41dca9', 'public': '026bb0d347893ab8b0a2f1c35b9aafa6cd22a996e45a6ff6f6055833b1aa47c405', 'address': 'C8o8jCsfkkjivnak633saX559Vn3WSrQbr', 'wif': 'Bq6vTkyBobmcTzweX9ocYiJKZJLkXSPzS5t7tHU6WyMFL4TBQY9q'}\n"
     ]
    }
   ],
   "source": [
    "addr2 = generate_new_address(coins['btcTest'],api_key=token)\n",
    "print(addr2)"
   ]
  },
  {
   "cell_type": "code",
   "execution_count": null,
   "id": "65df9560",
   "metadata": {},
   "outputs": [],
   "source": [
    "# sending coins \n",
    "tx = simple_spend(from_privkey=add)"
   ]
  }
 ],
 "metadata": {
  "kernelspec": {
   "display_name": "Python 3",
   "language": "python",
   "name": "python3"
  },
  "language_info": {
   "codemirror_mode": {
    "name": "ipython",
    "version": 3
   },
   "file_extension": ".py",
   "mimetype": "text/x-python",
   "name": "python",
   "nbconvert_exporter": "python",
   "pygments_lexer": "ipython3",
   "version": "3.8.3"
  }
 },
 "nbformat": 4,
 "nbformat_minor": 5
}
