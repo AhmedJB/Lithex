{
 "cells": [
  {
   "cell_type": "code",
   "execution_count": 1,
   "id": "1d2d8fc4",
   "metadata": {},
   "outputs": [],
   "source": [
    "#token = \"a42bd1d9e2364e32b47e3339d6f54329\"\n",
    "token = \"1db87ce0f8ef4242974929743a302e1a\"\n",
    "coins = {\n",
    "    \"btc\": \"btc\",\n",
    "    \"eth\" : \"eth\",\n",
    "    \"btcTest\" : \"bcy\",\n",
    "}"
   ]
  },
  {
   "cell_type": "code",
   "execution_count": 2,
   "id": "819ba6be",
   "metadata": {},
   "outputs": [],
   "source": [
    "from blockcypher import *"
   ]
  },
  {
   "cell_type": "markdown",
   "id": "f33c5817",
   "metadata": {},
   "source": [
    "<h1> Generate Address </h1>"
   ]
  },
  {
   "cell_type": "code",
   "execution_count": 3,
   "id": "92485246",
   "metadata": {},
   "outputs": [
    {
     "name": "stdout",
     "output_type": "stream",
     "text": [
      "Generating private key details server-side. You really should do this client-side. See https://github.com/sbuss/bitmerchant for an example.\n",
      "{'private': '36910fe54c999866c59f3cb891ac0ef1fa171e3ae2bbd9a1422f39f30729c27c', 'public': '04c45a2171544cfde57ee0244ad98d4b32be58f71ee4397a014b33d9256ff9b6ea9a9d32f618d5931e2af20bf75cb38fdbe5fbf890aa17d8abdd9c71ffa4cbaacb', 'address': '7d5bb5acdaa9ca91d756aa2e8dee36f1b59cf0a5'}\n"
     ]
    }
   ],
   "source": [
    "addr = generate_new_address('eth',api_key=token)\n",
    "print(addr)"
   ]
  },
  {
   "cell_type": "code",
   "execution_count": 4,
   "id": "adb96322",
   "metadata": {},
   "outputs": [
    {
     "name": "stdout",
     "output_type": "stream",
     "text": [
      "Generating private key details server-side. You really should do this client-side. See https://github.com/sbuss/bitmerchant for an example.\n",
      "{'private': '38db1bef8458db7210030d9427eac58f480ec54a50b88f90db99dea442528983', 'public': '04452f6dc293e132da0595f6ff615376faf4dc3a3ca0e1500e1fa2140e13dd6bfa04a232b0990ec23be5c77f61806c73e36f58bbdca19844873618b43a2539b272', 'address': 'e03a1ffa5dab95d789dd6e65f09bfae757a4f253'}\n"
     ]
    }
   ],
   "source": [
    "addr = generate_new_address('eth',api_key=token)\n",
    "print(addr)"
   ]
  },
  {
   "cell_type": "code",
   "execution_count": 81,
   "id": "e84fceef",
   "metadata": {},
   "outputs": [
    {
     "name": "stdout",
     "output_type": "stream",
     "text": [
      "{'tx_ref': 'a0a222230450586dfab26c73d467b34aa8b7c57dedf07aab269db5967438218d'}\n"
     ]
    }
   ],
   "source": [
    "# faucet fund\n",
    "tx = send_faucet_coins(address_to_fund=\"C3Xy56zT3iYaKMjEYWWo2F2uzq6mXTetMe\", satoshis=10**8, api_key = token, coin_symbol=coins['btcTest'])\n",
    "print(tx)"
   ]
  },
  {
   "cell_type": "code",
   "execution_count": 21,
   "id": "626d3b41",
   "metadata": {},
   "outputs": [],
   "source": [
    "# get_details\n",
    "address_details = get_address_overview(addr['address'],coin_symbol=coins['btcTest'],api_key=token)"
   ]
  },
  {
   "cell_type": "code",
   "execution_count": 82,
   "id": "c37ab846",
   "metadata": {},
   "outputs": [
    {
     "data": {
      "text/plain": [
       "69900"
      ]
     },
     "execution_count": 82,
     "metadata": {},
     "output_type": "execute_result"
    }
   ],
   "source": [
    "# confirmed balance \n",
    "balance = get_confirmed_balance(\"C3Xy56zT3iYaKMjEYWWo2F2uzq6mXTetMe\",coin_symbol=coins['btcTest'],api_key=token)\n",
    "balance"
   ]
  },
  {
   "cell_type": "code",
   "execution_count": 33,
   "id": "6ddcfa56",
   "metadata": {},
   "outputs": [
    {
     "data": {
      "text/plain": [
       "0"
      ]
     },
     "execution_count": 33,
     "metadata": {},
     "output_type": "execute_result"
    }
   ],
   "source": [
    "balance"
   ]
  },
  {
   "cell_type": "markdown",
   "id": "c6c7a8e3",
   "metadata": {},
   "source": [
    "<h1>Transfer the balance </h1>"
   ]
  },
  {
   "cell_type": "code",
   "execution_count": 25,
   "id": "53cfe72d",
   "metadata": {},
   "outputs": [
    {
     "name": "stdout",
     "output_type": "stream",
     "text": [
      "{'private': '34ee7261b3799a6076280dd33b31ab5a237849040140efda5f3156d19e41dca9', 'public': '026bb0d347893ab8b0a2f1c35b9aafa6cd22a996e45a6ff6f6055833b1aa47c405', 'address': 'C8o8jCsfkkjivnak633saX559Vn3WSrQbr', 'wif': 'Bq6vTkyBobmcTzweX9ocYiJKZJLkXSPzS5t7tHU6WyMFL4TBQY9q'}\n"
     ]
    }
   ],
   "source": [
    "addr2 = generate_new_address(coins['btcTest'],api_key=token)\n",
    "print(addr2)"
   ]
  },
  {
   "cell_type": "code",
   "execution_count": 66,
   "id": "b951077a",
   "metadata": {},
   "outputs": [
    {
     "name": "stdout",
     "output_type": "stream",
     "text": [
      "efe8e2a54c3ccf86eb0a6f61f26714b043b39da970ba9b2ee20df69f3c9d5320\n"
     ]
    }
   ],
   "source": [
    "# sending coins \n",
    "tx = simple_spend(from_privkey=addr['private'],to_address = \"C3Xy56zT3iYaKMjEYWWo2F2uzq6mXTetMe\",api_key=token, to_satoshis=balance-20000,coin_symbol=coins['btcTest'])\n",
    "print(tx)"
   ]
  },
  {
   "cell_type": "code",
   "execution_count": 30,
   "id": "ff9b5e91",
   "metadata": {},
   "outputs": [],
   "source": [
    "balance2 = get_confirmed_balance(addr2['address'],coin_symbol=coins['btcTest'],api_key=token)"
   ]
  },
  {
   "cell_type": "code",
   "execution_count": 31,
   "id": "44685745",
   "metadata": {},
   "outputs": [
    {
     "data": {
      "text/plain": [
       "99980000"
      ]
     },
     "execution_count": 31,
     "metadata": {},
     "output_type": "execute_result"
    }
   ],
   "source": [
    "balance2"
   ]
  },
  {
   "cell_type": "code",
   "execution_count": null,
   "id": "9e1024e6",
   "metadata": {},
   "outputs": [],
   "source": []
  }
 ],
 "metadata": {
  "kernelspec": {
   "display_name": "Python 3",
   "language": "python",
   "name": "python3"
  },
  "language_info": {
   "codemirror_mode": {
    "name": "ipython",
    "version": 3
   },
   "file_extension": ".py",
   "mimetype": "text/x-python",
   "name": "python",
   "nbconvert_exporter": "python",
   "pygments_lexer": "ipython3",
   "version": "3.8.3"
  }
 },
 "nbformat": 4,
 "nbformat_minor": 5
}
