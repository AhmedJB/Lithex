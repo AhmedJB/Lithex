{
 "cells": [
  {
   "cell_type": "code",
   "execution_count": 1,
   "id": "1f0907a9",
   "metadata": {},
   "outputs": [],
   "source": [
    "from web3 import Web3"
   ]
  },
  {
   "cell_type": "code",
   "execution_count": 92,
   "id": "458ec0d7",
   "metadata": {},
   "outputs": [],
   "source": [
    "#provider_url = \"HTTP://127.0.0.1:7545\"\n",
    "#provider_url = \"https://rinkeby.infura.io/v3/bd80c5f7a9e4449f958ef1e3910111ba\"\n",
    "provider_url = \"https://rpc-mumbai.maticvigil.com/\"\n",
    "w3 = Web3(Web3.HTTPProvider(provider_url))"
   ]
  },
  {
   "cell_type": "code",
   "execution_count": 93,
   "id": "9ee5b6e6",
   "metadata": {},
   "outputs": [
    {
     "data": {
      "text/plain": [
       "True"
      ]
     },
     "execution_count": 93,
     "metadata": {},
     "output_type": "execute_result"
    }
   ],
   "source": [
    "w3.isConnected()"
   ]
  },
  {
   "cell_type": "code",
   "execution_count": 11,
   "id": "a50f927c",
   "metadata": {},
   "outputs": [],
   "source": [
    "balance = w3.eth.getBalance(\"0xcE235404936EC2f9A859b995E6a2b9D787510CEB\")"
   ]
  },
  {
   "cell_type": "code",
   "execution_count": 12,
   "id": "f7e94449",
   "metadata": {},
   "outputs": [
    {
     "data": {
      "text/plain": [
       "100000000000000000000"
      ]
     },
     "execution_count": 12,
     "metadata": {},
     "output_type": "execute_result"
    }
   ],
   "source": [
    "balance"
   ]
  },
  {
   "cell_type": "code",
   "execution_count": 31,
   "id": "b6f84a83",
   "metadata": {},
   "outputs": [],
   "source": [
    "def generateAddress(w3):\n",
    "    account = w3.eth.account.create()\n",
    "    res = {\n",
    "        \"public\" : account.address,\n",
    "        \"private\" : account.privateKey.hex(),\n",
    "        \"address\" : account.address\n",
    "    }\n",
    "    return res\n"
   ]
  },
  {
   "cell_type": "code",
   "execution_count": 49,
   "id": "9c73d913",
   "metadata": {},
   "outputs": [],
   "source": [
    "def signAndSendTransaction(w3,tx,privateKey):\n",
    "    signed_tx = w3.eth.account.signTransaction(tx,privateKey)\n",
    "    tx_hash = w3.eth.sendRawTransaction(signed_tx.rawTransaction)\n",
    "    return (w3.toHex(tx_hash))"
   ]
  },
  {
   "cell_type": "code",
   "execution_count": 90,
   "id": "35286bd8",
   "metadata": {},
   "outputs": [],
   "source": [
    "def transfer(w3,to,from_acc,amount):\n",
    "    print(amount)\n",
    "    nonce = w3.eth.getTransactionCount(from_acc['address'])\n",
    "    tx = {\n",
    "    'nonce': nonce,\n",
    "    'to': to,\n",
    "    'value': amount,\n",
    "    'gas': 21000,\n",
    "    'gasPrice': w3.eth.gasPrice\n",
    "    }\n",
    "    gas = w3.eth.estimateGas(tx)\n",
    "    tx['value'] = tx['value'] - (gas * w3.eth.gasPrice)\n",
    "    tx['gas'] = gas\n",
    "    tx_hash = signAndSendTransaction(w3,tx,from_acc['private'])\n",
    "    return tx_hash\n",
    "    "
   ]
  },
  {
   "cell_type": "code",
   "execution_count": 32,
   "id": "37ce8b2b",
   "metadata": {},
   "outputs": [],
   "source": [
    "account  = generateAddress(w3)"
   ]
  },
  {
   "cell_type": "code",
   "execution_count": 88,
   "id": "871c1f33",
   "metadata": {},
   "outputs": [],
   "source": [
    "ganach_account = {\n",
    "    \"address\" : \"0x1a57f830AD872AdC00b2A2F77b0b41747B214EFB\",\n",
    "    \"private\" : \"0x4560bd3aa6a3eb389487da2c694cac9c8da961dcefd0f6f37dbc62710ed4d72a\"\n",
    "}"
   ]
  },
  {
   "cell_type": "code",
   "execution_count": 33,
   "id": "62b051d8",
   "metadata": {},
   "outputs": [
    {
     "data": {
      "text/plain": [
       "{'public': '0x142BD4f05bc15ad3cF185B75A63A6080e98D1e37',\n",
       " 'private': '0xd989d91ec42fc6d7672a8752d341807b3c31630c4d0f51f48114378d2b8ef90d',\n",
       " 'address': '0x142BD4f05bc15ad3cF185B75A63A6080e98D1e37'}"
      ]
     },
     "execution_count": 33,
     "metadata": {},
     "output_type": "execute_result"
    }
   ],
   "source": [
    "account"
   ]
  },
  {
   "cell_type": "code",
   "execution_count": 39,
   "id": "01697246",
   "metadata": {},
   "outputs": [],
   "source": [
    "def get_confirmed_balance(address):\n",
    "    return w3.eth.getBalance(address)"
   ]
  },
  {
   "cell_type": "code",
   "execution_count": 91,
   "id": "403476eb",
   "metadata": {},
   "outputs": [
    {
     "name": "stdout",
     "output_type": "stream",
     "text": [
      "100000000000000000000\n",
      "0x0493301e6f8d783a8db4485f5ac436bb366815a619ed12ccfc1eb21b7e2352b6\n"
     ]
    }
   ],
   "source": [
    "tx = transfer(w3,account['address'],ganach_account,\n",
    "              get_confirmed_balance(ganach_account['address']))\n",
    "print(tx)"
   ]
  },
  {
   "cell_type": "code",
   "execution_count": 64,
   "id": "f8b2c9b7",
   "metadata": {},
   "outputs": [
    {
     "data": {
      "text/plain": [
       "18950000000000000"
      ]
     },
     "execution_count": 64,
     "metadata": {},
     "output_type": "execute_result"
    }
   ],
   "source": [
    "get_confirmed_balance(ganach_account['address'])"
   ]
  },
  {
   "cell_type": "code",
   "execution_count": 65,
   "id": "8879c81d",
   "metadata": {},
   "outputs": [
    {
     "data": {
      "text/plain": [
       "Decimal('0.01895')"
      ]
     },
     "execution_count": 65,
     "metadata": {},
     "output_type": "execute_result"
    }
   ],
   "source": [
    "Web3.fromWei(18950000000000000,'ether')"
   ]
  },
  {
   "cell_type": "code",
   "execution_count": 80,
   "id": "0d925157",
   "metadata": {},
   "outputs": [
    {
     "ename": "AttributeError",
     "evalue": "'Eth' object has no attribute 'generate_gas_price'",
     "output_type": "error",
     "traceback": [
      "\u001b[1;31m---------------------------------------------------------------------------\u001b[0m",
      "\u001b[1;31mAttributeError\u001b[0m                            Traceback (most recent call last)",
      "\u001b[1;32m<ipython-input-80-4ec6c2ae1de8>\u001b[0m in \u001b[0;36m<module>\u001b[1;34m\u001b[0m\n\u001b[1;32m----> 1\u001b[1;33m \u001b[0mgas\u001b[0m \u001b[1;33m=\u001b[0m \u001b[0mw3\u001b[0m\u001b[1;33m.\u001b[0m\u001b[0meth\u001b[0m\u001b[1;33m.\u001b[0m\u001b[0mgenerate_gas_price\u001b[0m\u001b[1;33m(\u001b[0m\u001b[1;33m)\u001b[0m\u001b[1;33m\u001b[0m\u001b[1;33m\u001b[0m\u001b[0m\n\u001b[0m",
      "\u001b[1;31mAttributeError\u001b[0m: 'Eth' object has no attribute 'generate_gas_price'"
     ]
    }
   ],
   "source": [
    "gas = w3.eth.generate_gas_price()"
   ]
  },
  {
   "cell_type": "code",
   "execution_count": 79,
   "id": "045d6910",
   "metadata": {},
   "outputs": [],
   "source": [
    "gas"
   ]
  },
  {
   "cell_type": "code",
   "execution_count": 82,
   "id": "d4e74bd6",
   "metadata": {},
   "outputs": [
    {
     "data": {
      "text/plain": [
       "20000000000"
      ]
     },
     "execution_count": 82,
     "metadata": {},
     "output_type": "execute_result"
    }
   ],
   "source": [
    "w3.eth.gasPrice"
   ]
  },
  {
   "cell_type": "code",
   "execution_count": 83,
   "id": "abc7736d",
   "metadata": {},
   "outputs": [
    {
     "ename": "TypeError",
     "evalue": "estimateGas() missing 1 required positional argument: 'transaction'",
     "output_type": "error",
     "traceback": [
      "\u001b[1;31m---------------------------------------------------------------------------\u001b[0m",
      "\u001b[1;31mTypeError\u001b[0m                                 Traceback (most recent call last)",
      "\u001b[1;32m<ipython-input-83-069b9ffe8402>\u001b[0m in \u001b[0;36m<module>\u001b[1;34m\u001b[0m\n\u001b[1;32m----> 1\u001b[1;33m \u001b[0mw3\u001b[0m\u001b[1;33m.\u001b[0m\u001b[0meth\u001b[0m\u001b[1;33m.\u001b[0m\u001b[0mestimateGas\u001b[0m\u001b[1;33m(\u001b[0m\u001b[1;33m)\u001b[0m\u001b[1;33m\u001b[0m\u001b[1;33m\u001b[0m\u001b[0m\n\u001b[0m",
      "\u001b[1;31mTypeError\u001b[0m: estimateGas() missing 1 required positional argument: 'transaction'"
     ]
    }
   ],
   "source": [
    "w3.eth.estimateGas()"
   ]
  },
  {
   "cell_type": "code",
   "execution_count": null,
   "id": "a70e7175",
   "metadata": {},
   "outputs": [],
   "source": []
  }
 ],
 "metadata": {
  "kernelspec": {
   "display_name": "Python 3",
   "language": "python",
   "name": "python3"
  },
  "language_info": {
   "codemirror_mode": {
    "name": "ipython",
    "version": 3
   },
   "file_extension": ".py",
   "mimetype": "text/x-python",
   "name": "python",
   "nbconvert_exporter": "python",
   "pygments_lexer": "ipython3",
   "version": "3.8.3"
  }
 },
 "nbformat": 4,
 "nbformat_minor": 5
}
