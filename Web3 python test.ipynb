{
 "cells": [
  {
   "cell_type": "code",
   "execution_count": 1,
   "id": "1f0907a9",
   "metadata": {},
   "outputs": [],
   "source": [
    "from web3 import Web3"
   ]
  },
  {
   "cell_type": "code",
   "execution_count": 100,
   "id": "458ec0d7",
   "metadata": {},
   "outputs": [],
   "source": [
    "#provider_url = \"HTTP://127.0.0.1:7545\"\n",
    "#provider_url = \"https://rinkeby.infura.io/v3/bd80c5f7a9e4449f958ef1e3910111ba\"\n",
    "provider_url = \"https://rpc-mumbai.maticvigil.com/\"\n",
    "w3 = Web3(Web3.HTTPProvider(provider_url))"
   ]
  },
  {
   "cell_type": "code",
   "execution_count": 101,
   "id": "9ee5b6e6",
   "metadata": {},
   "outputs": [
    {
     "data": {
      "text/plain": [
       "False"
      ]
     },
     "execution_count": 101,
     "metadata": {},
     "output_type": "execute_result"
    }
   ],
   "source": [
    "w3.isConnected()"
   ]
  },
  {
   "cell_type": "code",
   "execution_count": 11,
   "id": "a50f927c",
   "metadata": {},
   "outputs": [],
   "source": [
    "balance = w3.eth.getBalance(\"0xcE235404936EC2f9A859b995E6a2b9D787510CEB\")"
   ]
  },
  {
   "cell_type": "code",
   "execution_count": 12,
   "id": "f7e94449",
   "metadata": {},
   "outputs": [
    {
     "data": {
      "text/plain": [
       "100000000000000000000"
      ]
     },
     "execution_count": 12,
     "metadata": {},
     "output_type": "execute_result"
    }
   ],
   "source": [
    "balance"
   ]
  },
  {
   "cell_type": "code",
   "execution_count": 6,
   "id": "b6f84a83",
   "metadata": {},
   "outputs": [],
   "source": [
    "def generateAddress(w3):\n",
    "    account = w3.eth.account.create()\n",
    "    res = {\n",
    "        \"public\" : account.address,\n",
    "        \"private\" : account.privateKey.hex(),\n",
    "        \"address\" : account.address\n",
    "    }\n",
    "    return res\n"
   ]
  },
  {
   "cell_type": "code",
   "execution_count": 18,
   "id": "9c73d913",
   "metadata": {},
   "outputs": [],
   "source": [
    "def signAndSendTransaction(w3,tx,privateKey):\n",
    "    signed_tx = w3.eth.account.signTransaction(tx,privateKey)\n",
    "    tx_hash = w3.eth.sendRawTransaction(signed_tx.rawTransaction)\n",
    "    return (w3.toHex(tx_hash))"
   ]
  },
  {
   "cell_type": "code",
   "execution_count": 19,
   "id": "35286bd8",
   "metadata": {},
   "outputs": [],
   "source": [
    "def transfer(w3,to,from_acc,amount):\n",
    "    print(amount)\n",
    "    nonce = w3.eth.getTransactionCount(from_acc['address'])\n",
    "    tx = {\n",
    "    'nonce': nonce,\n",
    "    'to': to,\n",
    "    'value': amount,\n",
    "    'gas': 21000,\n",
    "    'gasPrice': w3.eth.gasPrice\n",
    "    }\n",
    "    gas = w3.eth.estimateGas(tx)\n",
    "    tx['value'] = tx['value'] - (gas * w3.eth.gasPrice)\n",
    "    tx['gas'] = gas\n",
    "    tx_hash = signAndSendTransaction(w3,tx,from_acc['private'])\n",
    "    return tx_hash\n",
    "    "
   ]
  },
  {
   "cell_type": "code",
   "execution_count": 9,
   "id": "01697246",
   "metadata": {},
   "outputs": [],
   "source": [
    "def get_confirmed_balance(address):\n",
    "    return w3.eth.getBalance(address)"
   ]
  },
  {
   "cell_type": "code",
   "execution_count": 8,
   "id": "37ce8b2b",
   "metadata": {},
   "outputs": [],
   "source": [
    "account  = generateAddress(w3)"
   ]
  },
  {
   "cell_type": "code",
   "execution_count": 88,
   "id": "871c1f33",
   "metadata": {},
   "outputs": [],
   "source": [
    "ganach_account = {\n",
    "    \"address\" : \"0x1a57f830AD872AdC00b2A2F77b0b41747B214EFB\",\n",
    "    \"private\" : \"0x4560bd3aa6a3eb389487da2c694cac9c8da961dcefd0f6f37dbc62710ed4d72a\"\n",
    "}"
   ]
  },
  {
   "cell_type": "code",
   "execution_count": 9,
   "id": "62b051d8",
   "metadata": {},
   "outputs": [
    {
     "data": {
      "text/plain": [
       "{'public': '0xd027d788c2C02f8eC24246e9801B9955B3fA50B1',\n",
       " 'private': '0xbd3b956d47e0fd88dc2ce48637d79006721138489fbedc59293319f40fa57478',\n",
       " 'address': '0xd027d788c2C02f8eC24246e9801B9955B3fA50B1'}"
      ]
     },
     "execution_count": 9,
     "metadata": {},
     "output_type": "execute_result"
    }
   ],
   "source": [
    "account"
   ]
  },
  {
   "cell_type": "code",
   "execution_count": 91,
   "id": "403476eb",
   "metadata": {},
   "outputs": [
    {
     "name": "stdout",
     "output_type": "stream",
     "text": [
      "100000000000000000000\n",
      "0x0493301e6f8d783a8db4485f5ac436bb366815a619ed12ccfc1eb21b7e2352b6\n"
     ]
    }
   ],
   "source": [
    "tx = transfer(w3,account['address'],ganach_account,\n",
    "              get_confirmed_balance(ganach_account['address']))\n",
    "print(tx)"
   ]
  },
  {
   "cell_type": "code",
   "execution_count": 64,
   "id": "f8b2c9b7",
   "metadata": {},
   "outputs": [
    {
     "data": {
      "text/plain": [
       "18950000000000000"
      ]
     },
     "execution_count": 64,
     "metadata": {},
     "output_type": "execute_result"
    }
   ],
   "source": [
    "get_confirmed_balance(ganach_account['address'])"
   ]
  },
  {
   "cell_type": "code",
   "execution_count": 65,
   "id": "8879c81d",
   "metadata": {},
   "outputs": [
    {
     "data": {
      "text/plain": [
       "Decimal('0.01895')"
      ]
     },
     "execution_count": 65,
     "metadata": {},
     "output_type": "execute_result"
    }
   ],
   "source": [
    "Web3.fromWei(18950000000000000,'ether')"
   ]
  },
  {
   "cell_type": "code",
   "execution_count": 80,
   "id": "0d925157",
   "metadata": {},
   "outputs": [
    {
     "ename": "AttributeError",
     "evalue": "'Eth' object has no attribute 'generate_gas_price'",
     "output_type": "error",
     "traceback": [
      "\u001b[1;31m---------------------------------------------------------------------------\u001b[0m",
      "\u001b[1;31mAttributeError\u001b[0m                            Traceback (most recent call last)",
      "\u001b[1;32m<ipython-input-80-4ec6c2ae1de8>\u001b[0m in \u001b[0;36m<module>\u001b[1;34m\u001b[0m\n\u001b[1;32m----> 1\u001b[1;33m \u001b[0mgas\u001b[0m \u001b[1;33m=\u001b[0m \u001b[0mw3\u001b[0m\u001b[1;33m.\u001b[0m\u001b[0meth\u001b[0m\u001b[1;33m.\u001b[0m\u001b[0mgenerate_gas_price\u001b[0m\u001b[1;33m(\u001b[0m\u001b[1;33m)\u001b[0m\u001b[1;33m\u001b[0m\u001b[1;33m\u001b[0m\u001b[0m\n\u001b[0m",
      "\u001b[1;31mAttributeError\u001b[0m: 'Eth' object has no attribute 'generate_gas_price'"
     ]
    }
   ],
   "source": [
    "gas = w3.eth.generate_gas_price()"
   ]
  },
  {
   "cell_type": "code",
   "execution_count": 79,
   "id": "045d6910",
   "metadata": {},
   "outputs": [],
   "source": [
    "gas"
   ]
  },
  {
   "cell_type": "code",
   "execution_count": 82,
   "id": "d4e74bd6",
   "metadata": {},
   "outputs": [
    {
     "data": {
      "text/plain": [
       "20000000000"
      ]
     },
     "execution_count": 82,
     "metadata": {},
     "output_type": "execute_result"
    }
   ],
   "source": [
    "w3.eth.gasPrice"
   ]
  },
  {
   "cell_type": "code",
   "execution_count": 83,
   "id": "abc7736d",
   "metadata": {},
   "outputs": [
    {
     "ename": "TypeError",
     "evalue": "estimateGas() missing 1 required positional argument: 'transaction'",
     "output_type": "error",
     "traceback": [
      "\u001b[1;31m---------------------------------------------------------------------------\u001b[0m",
      "\u001b[1;31mTypeError\u001b[0m                                 Traceback (most recent call last)",
      "\u001b[1;32m<ipython-input-83-069b9ffe8402>\u001b[0m in \u001b[0;36m<module>\u001b[1;34m\u001b[0m\n\u001b[1;32m----> 1\u001b[1;33m \u001b[0mw3\u001b[0m\u001b[1;33m.\u001b[0m\u001b[0meth\u001b[0m\u001b[1;33m.\u001b[0m\u001b[0mestimateGas\u001b[0m\u001b[1;33m(\u001b[0m\u001b[1;33m)\u001b[0m\u001b[1;33m\u001b[0m\u001b[1;33m\u001b[0m\u001b[0m\n\u001b[0m",
      "\u001b[1;31mTypeError\u001b[0m: estimateGas() missing 1 required positional argument: 'transaction'"
     ]
    }
   ],
   "source": [
    "w3.eth.estimateGas()"
   ]
  },
  {
   "cell_type": "code",
   "execution_count": 83,
   "id": "a70e7175",
   "metadata": {},
   "outputs": [],
   "source": [
    "def calculate_method_fees(contract,method,account,*args):\n",
    "    print(args)\n",
    "    transaction = contract.functions[method](*args).buildTransaction({\n",
    "        'gas' : 500000,\n",
    "        'nonce' : w3.eth.getTransactionCount(account),\n",
    "        'from' : account\n",
    "    })\n",
    "    \n",
    "    gas = w3.eth.estimateGas(transaction)\n",
    "    print(gas)\n",
    "    return gas * w3.eth.gasPrice,transaction\n",
    "    \n",
    "def buildTransaction(contract,method,account,params,*args):\n",
    "    print(args)\n",
    "    transaction = contract.functions[method](*args).buildTransaction(params)\n",
    "    return transaction\n",
    "    "
   ]
  },
  {
   "cell_type": "code",
   "execution_count": 92,
   "id": "3d644f35",
   "metadata": {},
   "outputs": [],
   "source": [
    "def load_contract(w3,add,abi):\n",
    "    return w3.eth.contract(address=add , abi= abi)\n",
    "def call_read_method(contract,method,*args):\n",
    "    res = contract.functions[method](*args).call()\n",
    "    return res\n",
    "def call_write_method(w3,contract,method,acc,*args):\n",
    "    params = {\n",
    "        'gas' : 30000,\n",
    "        'nonce' : w3.eth.getTransactionCount(acc['address']),\n",
    "        'chainId' : 4,\n",
    "        'from' : acc['address']\n",
    "    }\n",
    "    gas = contract.functions[method](*args).estimateGas({\n",
    "    \"from\" : acc['address']\n",
    "    })\n",
    "    params['gas'] = gas\n",
    "    transaction = buildTransaction(contract,method,acc['address'],params,*args)\n",
    "    txn =  signAndSendTransaction(w3,transaction,acc['private'])\n",
    "    return txn"
   ]
  },
  {
   "cell_type": "code",
   "execution_count": 93,
   "id": "83c64744",
   "metadata": {},
   "outputs": [
    {
     "data": {
      "text/plain": [
       "51553"
      ]
     },
     "execution_count": 93,
     "metadata": {},
     "output_type": "execute_result"
    }
   ],
   "source": [
    "contract.functions.transfer(master_add,100000000000000000000).estimateGas({\n",
    "    \"from\" : deposit_add['address']\n",
    "})"
   ]
  },
  {
   "cell_type": "code",
   "execution_count": 24,
   "id": "676015fe",
   "metadata": {},
   "outputs": [],
   "source": [
    "# get_balance\n",
    "def get_contract_balance(contract,acc):\n",
    "    balance = call_read_method(contract,\"balanceOf\",acc['address'])\n",
    "    return balance"
   ]
  },
  {
   "cell_type": "code",
   "execution_count": 19,
   "id": "d4f7207b",
   "metadata": {},
   "outputs": [],
   "source": [
    "import json\n",
    "token_add = \"0xed0d5bDd9247161281bc185CC2b83a3Cf42073E5\"\n",
    "account = \"0x81e2ecb3ab4f9Bfa3C5Fb64AFAfA641ed677A936\"\n",
    "f = open(\"abi.json\",\"r\")\n",
    "abi = json.loads(f.read())\n",
    "f.close()"
   ]
  },
  {
   "cell_type": "code",
   "execution_count": 15,
   "id": "0dfea624",
   "metadata": {},
   "outputs": [],
   "source": [
    "contract = w3.eth.contract(address=token_add , abi= abi)"
   ]
  },
  {
   "cell_type": "code",
   "execution_count": 18,
   "id": "2e808029",
   "metadata": {},
   "outputs": [
    {
     "data": {
      "text/plain": [
       "<Function balanceOf>"
      ]
     },
     "execution_count": 18,
     "metadata": {},
     "output_type": "execute_result"
    }
   ],
   "source": [
    "contract.functions['balanceOf']"
   ]
  },
  {
   "cell_type": "code",
   "execution_count": 84,
   "id": "53885edb",
   "metadata": {},
   "outputs": [
    {
     "name": "stdout",
     "output_type": "stream",
     "text": [
      "('0xd49c1C9482Dd2178b7EFcefde32C93414dd1Ab1F', 100000000000000000000)\n",
      "51553\n"
     ]
    },
    {
     "data": {
      "text/plain": [
       "(51553000721742,\n",
       " {'value': 0,\n",
       "  'gasPrice': 1000000014,\n",
       "  'chainId': None,\n",
       "  'gas': 500000,\n",
       "  'nonce': 5,\n",
       "  'from': '0xABF6E01F791Bfa32FDa63932F47965E3d97f7787',\n",
       "  'to': '0xA86B4633f3fFC8d152ea012bAbeA187F1BE17807',\n",
       "  'data': '0xa9059cbb000000000000000000000000d49c1c9482dd2178b7efcefde32c93414dd1ab1f0000000000000000000000000000000000000000000000056bc75e2d63100000'})"
      ]
     },
     "execution_count": 84,
     "metadata": {},
     "output_type": "execute_result"
    }
   ],
   "source": [
    "calculate_method_fees(contract,\"transfer\",deposit_add['address'],master_address['address'],100000000000000000000)"
   ]
  },
  {
   "cell_type": "code",
   "execution_count": 77,
   "id": "9f9adae7",
   "metadata": {},
   "outputs": [
    {
     "data": {
      "text/plain": [
       "934000000450000"
      ]
     },
     "execution_count": 77,
     "metadata": {},
     "output_type": "execute_result"
    }
   ],
   "source": [
    "get_confirmed_balance(deposit_add['address'])"
   ]
  },
  {
   "cell_type": "code",
   "execution_count": 79,
   "id": "1d3e46f4",
   "metadata": {},
   "outputs": [
    {
     "data": {
      "text/plain": [
       "934000000450000"
      ]
     },
     "execution_count": 79,
     "metadata": {},
     "output_type": "execute_result"
    }
   ],
   "source": [
    "get_confirmed_balance(deposit_add['address'])"
   ]
  },
  {
   "cell_type": "code",
   "execution_count": 32,
   "id": "2d49ecce",
   "metadata": {},
   "outputs": [],
   "source": [
    "from decimal import Decimal"
   ]
  },
  {
   "cell_type": "code",
   "execution_count": 37,
   "id": "a9daf970",
   "metadata": {},
   "outputs": [
    {
     "data": {
      "text/plain": [
       "3000000000000000"
      ]
     },
     "execution_count": 37,
     "metadata": {},
     "output_type": "execute_result"
    }
   ],
   "source": [
    "w3.toWei(Decimal(0.003),'ether')"
   ]
  },
  {
   "cell_type": "code",
   "execution_count": 38,
   "id": "a71b29c2",
   "metadata": {},
   "outputs": [
    {
     "data": {
      "text/plain": [
       "Decimal('9.999989999999999999999181969')"
      ]
     },
     "execution_count": 38,
     "metadata": {},
     "output_type": "execute_result"
    }
   ],
   "source": [
    "Decimal(10) - Decimal(0.00001)"
   ]
  },
  {
   "cell_type": "code",
   "execution_count": 41,
   "id": "7e82a3be",
   "metadata": {},
   "outputs": [
    {
     "data": {
      "text/plain": [
       "10.0"
      ]
     },
     "execution_count": 41,
     "metadata": {},
     "output_type": "execute_result"
    }
   ],
   "source": [
    "10 - 0.0000000000000000001"
   ]
  },
  {
   "cell_type": "code",
   "execution_count": 10,
   "id": "0a08573f",
   "metadata": {},
   "outputs": [
    {
     "name": "stdout",
     "output_type": "stream",
     "text": [
      "{'public': '0xd49c1C9482Dd2178b7EFcefde32C93414dd1Ab1F', 'private': '0x672de985d49405d39de10b8dc34027e2f6a2c75d277bd54f9ac6306f0cb22701', 'address': '0xd49c1C9482Dd2178b7EFcefde32C93414dd1Ab1F'}\n"
     ]
    }
   ],
   "source": [
    "eth_fee = 0.001\n",
    "matic_fee = 0.001\n",
    "\n",
    "old_balance = 0\n",
    "master_address = generateAddress(w3)\n",
    "print(master_address)"
   ]
  },
  {
   "cell_type": "code",
   "execution_count": 51,
   "id": "2e106672",
   "metadata": {},
   "outputs": [],
   "source": [
    "# set the abi\n",
    "import json\n",
    "import time\n",
    "f = open(\"abi.json\",\"r\")\n",
    "abi = json.loads(f.read())\n",
    "f.close()"
   ]
  },
  {
   "cell_type": "code",
   "execution_count": 11,
   "id": "457fd06e",
   "metadata": {},
   "outputs": [],
   "source": [
    "master_add = master_address['address']"
   ]
  },
  {
   "cell_type": "code",
   "execution_count": 56,
   "id": "e50045cd",
   "metadata": {},
   "outputs": [],
   "source": [
    "token_add = \"0xA86B4633f3fFC8d152ea012bAbeA187F1BE17807\""
   ]
  },
  {
   "cell_type": "code",
   "execution_count": 23,
   "id": "238577da",
   "metadata": {},
   "outputs": [
    {
     "name": "stdout",
     "output_type": "stream",
     "text": [
      "{'public': '0xABF6E01F791Bfa32FDa63932F47965E3d97f7787', 'private': '0x6246d7ba0724c70132f7a6b1fa4cfeabbeda2d16ccc23d5ae6061fbf594db10f', 'address': '0xABF6E01F791Bfa32FDa63932F47965E3d97f7787'}\n"
     ]
    }
   ],
   "source": [
    "deposit_add = generateAddress(w3)\n",
    "print(deposit_add)"
   ]
  },
  {
   "cell_type": "code",
   "execution_count": 57,
   "id": "6bf39815",
   "metadata": {},
   "outputs": [],
   "source": [
    "contract = load_contract(w3,token_add,abi)"
   ]
  },
  {
   "cell_type": "code",
   "execution_count": 58,
   "id": "ba1eff98",
   "metadata": {},
   "outputs": [
    {
     "data": {
      "text/plain": [
       "0"
      ]
     },
     "execution_count": 58,
     "metadata": {},
     "output_type": "execute_result"
    }
   ],
   "source": [
    "get_contract_balance(contract,deposit_add)"
   ]
  },
  {
   "cell_type": "code",
   "execution_count": 52,
   "id": "56ebe6e5",
   "metadata": {},
   "outputs": [],
   "source": [
    "def check_new_deposit():\n",
    "    new_bal = get_contract_balance(contract,deposit_add)\n",
    "    print(new_bal)\n",
    "    if new_bal > old_balance:\n",
    "        print(\"new\")\n",
    "        fee_balance = get_confirmed_balance(deposit_add['address'])\n",
    "        if fee_balance >= eth_fee:\n",
    "            print(\"fee paid\")\n",
    "            print(\"transfering tokens \")\n",
    "            try:\n",
    "                master_old_balance = get_contract_balance(contract,master_address)\n",
    "                txn = call_write_method(w3,contract,'transfer',deposit_add,master_add,new_bal)\n",
    "                print(txn)\n",
    "                current_balance = get_contract_balance(contract,master_address)\n",
    "                while current_balance == master_old_balance:\n",
    "                    time.sleep(2)\n",
    "                    current_balance = get_contract_balance(contract,master_address)\n",
    "                print(\"transfering the fees\")\n",
    "                tx = transfer(w3,master_add,deposit_add,\n",
    "                get_confirmed_balance(deposit_add['address']))\n",
    "                if tx:\n",
    "                    bal = get_confirmed_balance(deposit_add['address'])\n",
    "                    print('transfered fees')\n",
    "                    \n",
    "                else:\n",
    "                    print('failed transfering fees')\n",
    "                    \n",
    "            except Exception as e:\n",
    "                print(str(e))\n",
    "                print(\"failed transfer\")\n",
    "        else:\n",
    "            print(\"fee not paid\")\n",
    "    else:\n",
    "        print(\"old\")"
   ]
  },
  {
   "cell_type": "code",
   "execution_count": 94,
   "id": "a7593145",
   "metadata": {},
   "outputs": [
    {
     "name": "stdout",
     "output_type": "stream",
     "text": [
      "100000000000000000000\n",
      "new\n",
      "fee paid\n",
      "transfering tokens \n",
      "('0xd49c1C9482Dd2178b7EFcefde32C93414dd1Ab1F', 100000000000000000000)\n",
      "0x227a12cabb9b396ee695b630a5f009fb71484480962fec6acb99cd763d7aa214\n",
      "transfering the fees\n",
      "887246999842211\n",
      "final balance\n",
      "887246999842211\n",
      "nothing\n"
     ]
    }
   ],
   "source": [
    "check_new_deposit()"
   ]
  },
  {
   "cell_type": "code",
   "execution_count": null,
   "id": "4805b747",
   "metadata": {},
   "outputs": [],
   "source": [
    "get_contract_balance(contract,master_address)"
   ]
  },
  {
   "cell_type": "code",
   "execution_count": 49,
   "id": "ef559889",
   "metadata": {},
   "outputs": [],
   "source": [
    "#call_write_method(w3,contract,'transfer',deposit_add,master_add,100000000000000000000)"
   ]
  },
  {
   "cell_type": "code",
   "execution_count": 55,
   "id": "d0956991",
   "metadata": {},
   "outputs": [
    {
     "name": "stdout",
     "output_type": "stream",
     "text": [
      "('0xd49c1C9482Dd2178b7EFcefde32C93414dd1Ab1F', 100000000000000000000)\n"
     ]
    },
    {
     "data": {
      "text/plain": [
       "'0x5594ac1b457f3c35af225e9351653c6d8fb6c1c88af62a6ee633506c13fcc203'"
      ]
     },
     "execution_count": 55,
     "metadata": {},
     "output_type": "execute_result"
    }
   ],
   "source": [
    "new_bal = get_contract_balance(contract,deposit_add)\n",
    "call_write_method(w3,contract,'transfer',deposit_add,master_add,new_bal)"
   ]
  },
  {
   "cell_type": "code",
   "execution_count": 60,
   "id": "fa8dfcbd",
   "metadata": {},
   "outputs": [
    {
     "name": "stdout",
     "output_type": "stream",
     "text": [
      "928000002040000\n",
      "final balance\n",
      "928000002040000\n",
      "nothing\n"
     ]
    }
   ],
   "source": [
    "tx = transfer(w3,master_add,deposit_add,\n",
    "get_confirmed_balance(deposit_add['address']))\n",
    "if tx:\n",
    "    bal = get_confirmed_balance(deposit_add['address'])\n",
    "    print(\"final balance\")\n",
    "    print(bal)\n",
    "    if bal == 0:\n",
    "        print(\"transfered fees\")\n",
    "    else:\n",
    "        print('nothing')\n",
    "else:\n",
    "    print('failed transfering fees')"
   ]
  },
  {
   "cell_type": "code",
   "execution_count": 97,
   "id": "1490c714",
   "metadata": {},
   "outputs": [],
   "source": [
    "bal = get_confirmed_balance(master_add)\n",
    "formed = w3.fromWei(bal,'ether')"
   ]
  },
  {
   "cell_type": "code",
   "execution_count": 99,
   "id": "ac70c671",
   "metadata": {},
   "outputs": [
    {
     "data": {
      "text/plain": [
       "0.001769047002344211"
      ]
     },
     "execution_count": 99,
     "metadata": {},
     "output_type": "execute_result"
    }
   ],
   "source": [
    "float(formed)"
   ]
  },
  {
   "cell_type": "code",
   "execution_count": null,
   "id": "8956fa96",
   "metadata": {},
   "outputs": [],
   "source": []
  }
 ],
 "metadata": {
  "kernelspec": {
   "display_name": "Python 3",
   "language": "python",
   "name": "python3"
  },
  "language_info": {
   "codemirror_mode": {
    "name": "ipython",
    "version": 3
   },
   "file_extension": ".py",
   "mimetype": "text/x-python",
   "name": "python",
   "nbconvert_exporter": "python",
   "pygments_lexer": "ipython3",
   "version": "3.8.3"
  }
 },
 "nbformat": 4,
 "nbformat_minor": 5
}
