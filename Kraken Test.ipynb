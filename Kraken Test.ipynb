{
 "cells": [
  {
   "cell_type": "code",
   "execution_count": 1,
   "id": "46e908df",
   "metadata": {},
   "outputs": [],
   "source": [
    "#imports here\n",
    "import ccxt\n"
   ]
  },
  {
   "cell_type": "code",
   "execution_count": 4,
   "id": "315bfa25",
   "metadata": {},
   "outputs": [
    {
     "name": "stdout",
     "output_type": "stream",
     "text": [
      "74\n"
     ]
    }
   ],
   "source": [
    "print(ccxt.exchanges.index(\"kraken\"))"
   ]
  },
  {
   "cell_type": "code",
   "execution_count": 2,
   "id": "a99a899f",
   "metadata": {},
   "outputs": [],
   "source": [
    "api_key = \"cFT6E0pHVjn6TWTCA3QHi19zmT3LYXrRxKTmiYPBHqKBQfc8JZLX00kB\"\n",
    "api_secret = \"7IEhBkHo+u2yH6oU2Uzd7BTJlT5eD/o0WxXRUISxzpQMv1W5RKsCG1COWMtUVT9GK5q8tMYAyYszpH3NPkm+1Q==\""
   ]
  },
  {
   "cell_type": "code",
   "execution_count": 3,
   "id": "f4e764d8",
   "metadata": {},
   "outputs": [],
   "source": [
    "exchange_class = getattr(ccxt,\"kraken\")"
   ]
  },
  {
   "cell_type": "code",
   "execution_count": 4,
   "id": "0cbfe5a0",
   "metadata": {},
   "outputs": [],
   "source": [
    "ex  = exchange_class({\n",
    "    'apiKey':api_key,\n",
    "    'secret':api_secret\n",
    "})"
   ]
  },
  {
   "cell_type": "code",
   "execution_count": 5,
   "id": "d39d9374",
   "metadata": {},
   "outputs": [],
   "source": [
    "markets = ex.load_markets()"
   ]
  },
  {
   "cell_type": "code",
   "execution_count": 55,
   "id": "9a7763ea",
   "metadata": {},
   "outputs": [
    {
     "data": {
      "text/plain": [
       "{'info': {'error': [],\n",
       "  'result': {'USDT': '0.45159677', 'UST': '55.70113206', 'ZGBP': '0.3501'}},\n",
       " 'timestamp': None,\n",
       " 'datetime': None,\n",
       " 'USDT': {'free': None, 'used': None, 'total': 0.45159677},\n",
       " 'UST': {'free': None, 'used': None, 'total': 55.70113206},\n",
       " 'GBP': {'free': None, 'used': None, 'total': 0.3501},\n",
       " 'free': {'USDT': None, 'UST': None, 'GBP': None},\n",
       " 'used': {'USDT': None, 'UST': None, 'GBP': None},\n",
       " 'total': {'USDT': 0.45159677, 'UST': 55.70113206, 'GBP': 0.3501}}"
      ]
     },
     "execution_count": 55,
     "metadata": {},
     "output_type": "execute_result"
    }
   ],
   "source": [
    "balance = ex.fetch_balance()\n",
    "balance"
   ]
  },
  {
   "cell_type": "code",
   "execution_count": 28,
   "id": "ff324853",
   "metadata": {},
   "outputs": [],
   "source": [
    "# get price \n",
    "def get_price(pair,ex):\n",
    "    orderbook = ex.fetch_order_book(pair)\n",
    "    bid = orderbook['bids'][0][0] if len (orderbook['bids']) > 0 else None\n",
    "    ask = orderbook['asks'][0][0] if len (orderbook['asks']) > 0 else None\n",
    "    return ask\n",
    "\n",
    "# get perc amount\n",
    "def get_perc_amount(amount,perc):\n",
    "    return round(amount  * perc , 8)\n",
    "\n",
    "# script to watch usdt and convert to ust\n",
    "def convert_to_ust():\n",
    "    balance = ex.fetch_balance()\n",
    "    markets = ex.load_markets()\n",
    "    ust_min  = markets['UST/USDT']['limits']['amount']['min']\n",
    "    total_usdt = balance['total']['USDT']\n",
    "    trade_amount = get_perc_amount(total_usdt  / get_price(\"UST/USDT\",ex) , 0.99)\n",
    "    formated = ex.amount_to_precision(\"UST/USDT\",trade_amount)\n",
    "    if float(trade_amount) > float(ust_min):\n",
    "        print(\"can be traded\")\n",
    "        res = ex.create_market_buy_order('UST/USDT',trade_amount)\n",
    "        print(res)\n",
    "    else:\n",
    "        print(\"minimum not reached\")\n",
    "\n",
    "fiat_pairs = [\"USDT/USD\",\"USDT/GBP\",\"USDT/EUR\"]\n"
   ]
  },
  {
   "cell_type": "code",
   "execution_count": 44,
   "id": "6889b20b",
   "metadata": {},
   "outputs": [
    {
     "name": "stdout",
     "output_type": "stream",
     "text": [
      "thee is no balance for USD\n",
      "minimum not reached for GBP\n",
      "thee is no balance for EUR\n"
     ]
    }
   ],
   "source": [
    "def get_base_fiat_amount(pair,amount,ex):\n",
    "    price = get_price(pair,ex)\n",
    "    return round((amount / price),8)\n",
    "def watch_convert_fiat():\n",
    "    base = \"USDT\"\n",
    "    fiats = [\"USD\",\"GBP\",\"EUR\"]\n",
    "    markets = ex.load_markets()\n",
    "    balance= ex.fetch_balance()\n",
    "    for fiat in fiats:\n",
    "        min_amount = markets[base+\"/\"+fiat]['limits']['amount']['min']\n",
    "        fiat_balance = balance['total'].get(fiat,False)\n",
    "        if fiat_balance:\n",
    "            trade_amount = get_perc_amount(fiat_balance  / get_price(base+\"/\"+fiat,ex) , 0.99)\n",
    "            formated =  ex.amount_to_precision(base+\"/\"+fiat,trade_amount)\n",
    "            if float(trade_amount) > float(min_amount):\n",
    "                print(\"can be traded\")\n",
    "                res = ex.create_market_buy_order(base+\"/\"+fiat,formated)\n",
    "                print(res)\n",
    "                trade_id = res.get(\"id\",False)\n",
    "                if trade_id:\n",
    "                    print(\"success Fiat Trade\")\n",
    "                else:\n",
    "                    print(\"failed Fiat Trade\")\n",
    "            else:\n",
    "                print(\"minimum not reached for \"+ fiat)\n",
    "\n",
    "        else:\n",
    "            print(\"thee is no balance for \" + fiat)\n",
    "watch_convert_fiat()\n",
    "        \n",
    "    \n",
    "    "
   ]
  },
  {
   "cell_type": "code",
   "execution_count": 31,
   "id": "56076c10",
   "metadata": {},
   "outputs": [
    {
     "data": {
      "text/plain": [
       "13.024225058609012"
      ]
     },
     "execution_count": 31,
     "metadata": {},
     "output_type": "execute_result"
    }
   ],
   "source": [
    "10 /get_price(\"USDT/GBP\",ex)"
   ]
  },
  {
   "cell_type": "code",
   "execution_count": 22,
   "id": "9af11edb",
   "metadata": {},
   "outputs": [
    {
     "name": "stdout",
     "output_type": "stream",
     "text": [
      "['1INCH/USD', 'AAVE/USD', 'ACA/USD', 'ADA/USD', 'ADA/USDT', 'AIR/USD', 'AKT/USD', 'ALCX/USD', 'ALGO/USD', 'ALICE/USD', 'ANKR/USD', 'ANT/USD', 'APE/USD', 'ASTR/USD', 'ATLAS/USD', 'ATOM/USD', 'AUD/USD', 'AUDIO/USD', 'AVAX/USD', 'AXS/USD', 'BADGER/USD', 'BAL/USD', 'BAND/USD', 'BAT/USD', 'BCH/USD', 'BCH/USDT', 'BICO/USD', 'BNC/USD', 'BNT/USD', 'BOND/USD', 'BTC/USD', 'BTC/USDC', 'BTC/USDT', 'CHZ/USD', 'COMP/USD', 'CQT/USD', 'CRV/USD', 'CTSI/USD', 'CVX/USD', 'DAI/USD', 'DAI/USDT', 'DASH/USD', 'DOGE/USD', 'DOGE/USDT', 'DOT/USD', 'DOT/USDT', 'DYDX/USD', 'ENJ/USD', 'ENS/USD', 'EOS/USD', 'EOS/USDT', 'ETC/USD', 'ETH/USD', 'ETH/USDC', 'ETH/USDT', 'EUR/USD', 'EWT/USD', 'FIDA/USD', 'FIL/USD', 'FLOW/USD', 'FXS/USD', 'GALA/USD', 'GBP/USD', 'GHST/USD', 'GLMR/USD', 'GNO/USD', 'GRT/USD', 'ICP/USD', 'ICX/USD', 'IMX/USD', 'INJ/USD', 'JASMY/USD', 'KAR/USD', 'KAVA/USD', 'KEEP/USD', 'KILT/USD', 'KIN/USD', 'KINT/USD', 'KNC/USD', 'KP3R/USD', 'KSM/USD', 'LINK/USD', 'LINK/USDT', 'LPT/USD', 'LRC/USD', 'LSK/USD', 'LTC/USD', 'LTC/USDT', 'LUNA/USD', 'MANA/USD', 'MASK/USD', 'MATIC/USD', 'MC/USD', 'MINA/USD', 'MIR/USD', 'MKR/USD', 'MLN/USD', 'MNGO/USD', 'MOVR/USD', 'MULTI/USD', 'NANO/USD', 'OCEAN/USD', 'OGN/USD', 'OMG/USD', 'ORCA/USD', 'OXT/USD', 'OXY/USD', 'PAXG/USD', 'PERP/USD', 'PHA/USD', 'PLA/USD', 'POLIS/USD', 'POWR/USD', 'PSTAKE/USD', 'QNT/USD', 'QTUM/USD', 'RARE/USD', 'RARI/USD', 'RAY/USD', 'RBC/USD', 'REN/USD', 'REP/USD', 'REPV1/USD', 'RNDR/USD', 'SAND/USD', 'SBR/USD', 'SC/USD', 'SCRT/USD', 'SDN/USD', 'SGB/USD', 'SHIB/USD', 'SNX/USD', 'SOL/USD', 'SPELL/USD', 'SRM/USD', 'STEP/USD', 'STORJ/USD', 'SUSHI/USD', 'TBTC/USD', 'TOKE/USD', 'TRIBE/USD', 'TRX/USD', 'UMA/USD', 'UNI/USD', 'USD/CAD', 'USD/CHF', 'USD/JPY', 'USDC/AUD', 'USDC/EUR', 'USDC/GBP', 'USDC/USD', 'USDC/USDT', 'USDT/AUD', 'USDT/CAD', 'USDT/CHF', 'USDT/EUR', 'USDT/GBP', 'USDT/JPY', 'USDT/USD', 'UST/USD', 'UST/USDC', 'UST/USDT', 'WAVES/USD', 'WBTC/USD', 'WOO/USD', 'XLM/USD', 'XMR/USD', 'XRP/USD', 'XRP/USDT', 'XRT/USD', 'XTZ/USD', 'YFI/USD', 'YGG/USD', 'ZEC/USD', 'ZRX/USD']\n"
     ]
    }
   ],
   "source": [
    "symbols = ex.symbols\n",
    "filtered_symbols = []\n",
    "for symbol in symbols:\n",
    "    if 'USD' in symbol:\n",
    "        filtered_symbols.append(symbol)\n",
    "        \n",
    "print(filtered_symbols)"
   ]
  },
  {
   "cell_type": "code",
   "execution_count": 23,
   "id": "77246cf2",
   "metadata": {},
   "outputs": [],
   "source": [
    "def get_price(pair,ex):\n",
    "    orderbook = ex.fetch_order_book(pair)\n",
    "    bid = orderbook['bids'][0][0] if len (orderbook['bids']) > 0 else None\n",
    "    ask = orderbook['asks'][0][0] if len (orderbook['asks']) > 0 else None\n",
    "    return ask\n",
    "\n"
   ]
  },
  {
   "cell_type": "code",
   "execution_count": 24,
   "id": "82fdfff8",
   "metadata": {},
   "outputs": [],
   "source": [
    "price = get_price(\"UST/USDT\",ex)"
   ]
  },
  {
   "cell_type": "code",
   "execution_count": 25,
   "id": "aa7708ac",
   "metadata": {},
   "outputs": [
    {
     "data": {
      "text/plain": [
       "28.90000001"
      ]
     },
     "execution_count": 25,
     "metadata": {},
     "output_type": "execute_result"
    }
   ],
   "source": [
    "balance['total']['USDT']"
   ]
  },
  {
   "cell_type": "code",
   "execution_count": 26,
   "id": "fb646e0c",
   "metadata": {},
   "outputs": [],
   "source": [
    "def get_perc_amount(amount,perc):\n",
    "    return round(amount  * perc , 8)\n"
   ]
  },
  {
   "cell_type": "code",
   "execution_count": 29,
   "id": "d767edcf",
   "metadata": {},
   "outputs": [
    {
     "name": "stdout",
     "output_type": "stream",
     "text": [
      "27.46872751\n"
     ]
    }
   ],
   "source": [
    "trade_amount = get_perc_amount(balance['total']['USDT']  * price,0.95)\n",
    "print(trade_amount)"
   ]
  },
  {
   "cell_type": "code",
   "execution_count": 32,
   "id": "a7f202b1",
   "metadata": {},
   "outputs": [
    {
     "name": "stdout",
     "output_type": "stream",
     "text": [
      "{'id': 'OAVOTI-2IEEV-J6K4IZ', 'clientOrderId': None, 'info': {'txid': ['OAVOTI-2IEEV-J6K4IZ'], 'descr': {'order': 'buy 27.46872751 USTUSDT @ market'}}, 'timestamp': None, 'datetime': None, 'lastTradeTimestamp': None, 'status': None, 'symbol': 'UST/USDT', 'type': 'market', 'timeInForce': None, 'postOnly': None, 'side': 'buy', 'price': None, 'stopPrice': None, 'cost': None, 'amount': 27.46872751, 'filled': None, 'average': None, 'remaining': None, 'fee': None, 'trades': None, 'fees': []}\n"
     ]
    }
   ],
   "source": [
    "res = ex.create_market_buy_order('UST/USDT',trade_amount)\n",
    "print(res)"
   ]
  },
  {
   "cell_type": "code",
   "execution_count": 31,
   "id": "10e9485c",
   "metadata": {},
   "outputs": [
    {
     "data": {
      "text/plain": [
       "True"
      ]
     },
     "execution_count": 31,
     "metadata": {},
     "output_type": "execute_result"
    }
   ],
   "source": [
    "ex.has['createMarketOrder']"
   ]
  },
  {
   "cell_type": "code",
   "execution_count": 38,
   "id": "d6262f65",
   "metadata": {},
   "outputs": [],
   "source": [
    "total_usdt = balance['total']['USDT']\n",
    "trade_amount = get_perc_amount(total_usdt  * get_price(\"UST/USDT\",ex) , 0.99)\n",
    "formated = ex.amount_to_precision(\"UST/USDT\",trade_amount)"
   ]
  },
  {
   "cell_type": "code",
   "execution_count": 39,
   "id": "303d5cfb",
   "metadata": {},
   "outputs": [
    {
     "data": {
      "text/plain": [
       "'1.34457213'"
      ]
     },
     "execution_count": 39,
     "metadata": {},
     "output_type": "execute_result"
    }
   ],
   "source": [
    "formated"
   ]
  },
  {
   "cell_type": "code",
   "execution_count": 58,
   "id": "16081860",
   "metadata": {},
   "outputs": [
    {
     "data": {
      "text/plain": [
       "{'percentage': True,\n",
       " 'tierBased': True,\n",
       " 'taker': 0.002,\n",
       " 'maker': 0.002,\n",
       " 'tiers': {'taker': [[0, 0.0026],\n",
       "   [50000, 0.0024],\n",
       "   [100000, 0.0022],\n",
       "   [250000, 0.002],\n",
       "   [500000, 0.0018],\n",
       "   [1000000, 0.0016],\n",
       "   [2500000, 0.0014],\n",
       "   [5000000, 0.0012],\n",
       "   [10000000, 0.0001]],\n",
       "  'maker': [[0, 0.0016],\n",
       "   [50000, 0.0014],\n",
       "   [100000, 0.0012],\n",
       "   [250000, 0.001],\n",
       "   [500000, 0.0008],\n",
       "   [1000000, 0.0006],\n",
       "   [2500000, 0.0004],\n",
       "   [5000000, 0.0002],\n",
       "   [10000000, 0.0]]},\n",
       " 'precision': {'amount': 8, 'price': 4},\n",
       " 'limits': {'amount': {'min': 5.0, 'max': 100000000.0},\n",
       "  'price': {'min': 0.0001, 'max': None},\n",
       "  'cost': {'min': 0, 'max': None},\n",
       "  'leverage': {'max': 1}},\n",
       " 'id': 'USTUSDT',\n",
       " 'symbol': 'UST/USDT',\n",
       " 'base': 'UST',\n",
       " 'quote': 'USDT',\n",
       " 'baseId': 'UST',\n",
       " 'quoteId': 'USDT',\n",
       " 'darkpool': False,\n",
       " 'info': {'altname': 'USTUSDT',\n",
       "  'wsname': 'UST/USDT',\n",
       "  'aclass_base': 'currency',\n",
       "  'base': 'UST',\n",
       "  'aclass_quote': 'currency',\n",
       "  'quote': 'USDT',\n",
       "  'lot': 'unit',\n",
       "  'pair_decimals': '4',\n",
       "  'lot_decimals': '8',\n",
       "  'lot_multiplier': '1',\n",
       "  'leverage_buy': [],\n",
       "  'leverage_sell': [],\n",
       "  'fees': [['0', '0.2'],\n",
       "   ['50000', '0.16'],\n",
       "   ['100000', '0.12'],\n",
       "   ['250000', '0.08'],\n",
       "   ['500000', '0.04'],\n",
       "   ['1000000', '0.0']],\n",
       "  'fees_maker': [['0', '0.2'],\n",
       "   ['50000', '0.16'],\n",
       "   ['100000', '0.12'],\n",
       "   ['250000', '0.08'],\n",
       "   ['500000', '0.04'],\n",
       "   ['1000000', '0.0']],\n",
       "  'fee_volume_currency': 'ZUSD',\n",
       "  'margin_call': '80',\n",
       "  'margin_stop': '40',\n",
       "  'ordermin': '5'},\n",
       " 'altname': 'USTUSDT',\n",
       " 'type': 'spot',\n",
       " 'spot': True,\n",
       " 'active': True}"
      ]
     },
     "execution_count": 58,
     "metadata": {},
     "output_type": "execute_result"
    }
   ],
   "source": [
    "markets = ex.markets\n",
    "markets['UST/USDT']\n"
   ]
  },
  {
   "cell_type": "code",
   "execution_count": 46,
   "id": "d1071299",
   "metadata": {},
   "outputs": [
    {
     "data": {
      "text/plain": [
       "5.0"
      ]
     },
     "execution_count": 46,
     "metadata": {},
     "output_type": "execute_result"
    }
   ],
   "source": [
    "markets['UST/USDT']['limits']['amount']['min']\n"
   ]
  },
  {
   "cell_type": "code",
   "execution_count": 51,
   "id": "3553b05f",
   "metadata": {},
   "outputs": [
    {
     "data": {
      "text/plain": [
       "{'id': 'OK4X5T-LNQIG-UARNH4',\n",
       " 'clientOrderId': None,\n",
       " 'info': {'txid': ['OK4X5T-LNQIG-UARNH4'],\n",
       "  'descr': {'order': 'sell 56.36390097 USTUSDT @ market'}},\n",
       " 'timestamp': None,\n",
       " 'datetime': None,\n",
       " 'lastTradeTimestamp': None,\n",
       " 'status': None,\n",
       " 'symbol': 'UST/USDT',\n",
       " 'type': 'market',\n",
       " 'timeInForce': None,\n",
       " 'postOnly': None,\n",
       " 'side': 'sell',\n",
       " 'price': None,\n",
       " 'stopPrice': None,\n",
       " 'cost': None,\n",
       " 'amount': 56.36390097,\n",
       " 'filled': None,\n",
       " 'average': None,\n",
       " 'remaining': None,\n",
       " 'fee': None,\n",
       " 'trades': [],\n",
       " 'fees': []}"
      ]
     },
     "execution_count": 51,
     "metadata": {},
     "output_type": "execute_result"
    }
   ],
   "source": [
    "res = ex.create_market_sell_order('UST/USDT',balance['total']['UST'])\n",
    "res"
   ]
  },
  {
   "cell_type": "code",
   "execution_count": 53,
   "id": "06dad130",
   "metadata": {},
   "outputs": [
    {
     "data": {
      "text/plain": [
       "{'id': 'OQTNBK-CJ5PF-HZR4MT',\n",
       " 'clientOrderId': None,\n",
       " 'info': {'txid': ['OQTNBK-CJ5PF-HZR4MT'],\n",
       "  'descr': {'order': 'sell 56.73383921 USDTGBP @ market'}},\n",
       " 'timestamp': None,\n",
       " 'datetime': None,\n",
       " 'lastTradeTimestamp': None,\n",
       " 'status': None,\n",
       " 'symbol': 'USDT/GBP',\n",
       " 'type': 'market',\n",
       " 'timeInForce': None,\n",
       " 'postOnly': None,\n",
       " 'side': 'sell',\n",
       " 'price': None,\n",
       " 'stopPrice': None,\n",
       " 'cost': None,\n",
       " 'amount': 56.73383921,\n",
       " 'filled': None,\n",
       " 'average': None,\n",
       " 'remaining': None,\n",
       " 'fee': None,\n",
       " 'trades': [],\n",
       " 'fees': []}"
      ]
     },
     "execution_count": 53,
     "metadata": {},
     "output_type": "execute_result"
    }
   ],
   "source": [
    "res = ex.create_market_sell_order('USDT/GBP',balance['total']['USDT'])\n",
    "res"
   ]
  },
  {
   "cell_type": "code",
   "execution_count": 19,
   "id": "c8ae7ce7",
   "metadata": {},
   "outputs": [
    {
     "ename": "NameError",
     "evalue": "name 'get_price' is not defined",
     "output_type": "error",
     "traceback": [
      "\u001b[1;31m---------------------------------------------------------------------------\u001b[0m",
      "\u001b[1;31mNameError\u001b[0m                                 Traceback (most recent call last)",
      "\u001b[1;32m<ipython-input-19-40dd4c282f54>\u001b[0m in \u001b[0;36m<module>\u001b[1;34m\u001b[0m\n\u001b[0;32m     17\u001b[0m         \u001b[0mprint\u001b[0m\u001b[1;33m(\u001b[0m\u001b[1;34m\"minimum not reached\"\u001b[0m\u001b[1;33m)\u001b[0m\u001b[1;33m\u001b[0m\u001b[1;33m\u001b[0m\u001b[0m\n\u001b[0;32m     18\u001b[0m \u001b[1;33m\u001b[0m\u001b[0m\n\u001b[1;32m---> 19\u001b[1;33m \u001b[0mconvert_to_ust\u001b[0m\u001b[1;33m(\u001b[0m\u001b[1;33m)\u001b[0m\u001b[1;33m\u001b[0m\u001b[1;33m\u001b[0m\u001b[0m\n\u001b[0m",
      "\u001b[1;32m<ipython-input-19-40dd4c282f54>\u001b[0m in \u001b[0;36mconvert_to_ust\u001b[1;34m()\u001b[0m\n\u001b[0;32m      8\u001b[0m     \u001b[0must_min\u001b[0m  \u001b[1;33m=\u001b[0m \u001b[0mmarkets\u001b[0m\u001b[1;33m[\u001b[0m\u001b[1;34m'UST/USDT'\u001b[0m\u001b[1;33m]\u001b[0m\u001b[1;33m[\u001b[0m\u001b[1;34m'limits'\u001b[0m\u001b[1;33m]\u001b[0m\u001b[1;33m[\u001b[0m\u001b[1;34m'amount'\u001b[0m\u001b[1;33m]\u001b[0m\u001b[1;33m[\u001b[0m\u001b[1;34m'min'\u001b[0m\u001b[1;33m]\u001b[0m\u001b[1;33m\u001b[0m\u001b[1;33m\u001b[0m\u001b[0m\n\u001b[0;32m      9\u001b[0m     \u001b[0mtotal_usdt\u001b[0m \u001b[1;33m=\u001b[0m \u001b[0mbalance\u001b[0m\u001b[1;33m[\u001b[0m\u001b[1;34m'total'\u001b[0m\u001b[1;33m]\u001b[0m\u001b[1;33m[\u001b[0m\u001b[1;34m'USDT'\u001b[0m\u001b[1;33m]\u001b[0m\u001b[1;33m\u001b[0m\u001b[1;33m\u001b[0m\u001b[0m\n\u001b[1;32m---> 10\u001b[1;33m     \u001b[0mtrade_amount\u001b[0m \u001b[1;33m=\u001b[0m \u001b[0mget_perc_amount\u001b[0m\u001b[1;33m(\u001b[0m\u001b[0mtotal_usdt\u001b[0m  \u001b[1;33m*\u001b[0m \u001b[0mget_price\u001b[0m\u001b[1;33m(\u001b[0m\u001b[1;34m\"UST/USDT\"\u001b[0m\u001b[1;33m,\u001b[0m\u001b[0mex\u001b[0m\u001b[1;33m)\u001b[0m \u001b[1;33m,\u001b[0m \u001b[1;36m0.99\u001b[0m\u001b[1;33m)\u001b[0m\u001b[1;33m\u001b[0m\u001b[1;33m\u001b[0m\u001b[0m\n\u001b[0m\u001b[0;32m     11\u001b[0m     \u001b[0mformated\u001b[0m \u001b[1;33m=\u001b[0m \u001b[0mex\u001b[0m\u001b[1;33m.\u001b[0m\u001b[0mamount_to_precision\u001b[0m\u001b[1;33m(\u001b[0m\u001b[1;34m\"UST/USDT\"\u001b[0m\u001b[1;33m,\u001b[0m\u001b[0mtrade_amount\u001b[0m\u001b[1;33m)\u001b[0m\u001b[1;33m\u001b[0m\u001b[1;33m\u001b[0m\u001b[0m\n\u001b[0;32m     12\u001b[0m     \u001b[1;32mif\u001b[0m \u001b[0mfloat\u001b[0m\u001b[1;33m(\u001b[0m\u001b[0mtrade_amount\u001b[0m\u001b[1;33m)\u001b[0m \u001b[1;33m>\u001b[0m \u001b[0mfloat\u001b[0m\u001b[1;33m(\u001b[0m\u001b[0must_min\u001b[0m\u001b[1;33m)\u001b[0m\u001b[1;33m:\u001b[0m\u001b[1;33m\u001b[0m\u001b[1;33m\u001b[0m\u001b[0m\n",
      "\u001b[1;31mNameError\u001b[0m: name 'get_price' is not defined"
     ]
    }
   ],
   "source": [
    "\n"
   ]
  },
  {
   "cell_type": "code",
   "execution_count": 8,
   "id": "96efb5fc",
   "metadata": {},
   "outputs": [
    {
     "name": "stdout",
     "output_type": "stream",
     "text": [
      "{'info': {'refid': 'BTONFTP-VR23ME-UDNKIJ'}, 'id': 'BTONFTP-VR23ME-UDNKIJ'}\n"
     ]
    }
   ],
   "source": [
    "add = \"terra1f2fgl9wyuz8k2qdj2ywtk3ksz7qgxvdcs2y7xd\"\n",
    "tags = None\n",
    "params = {\n",
    "    'key': 'xo ust',\n",
    "}\n",
    "w = ex.withdraw(\"UST\",\"2\",add,tags,params)\n",
    "print(w)"
   ]
  },
  {
   "cell_type": "code",
   "execution_count": 11,
   "id": "3ac81a26",
   "metadata": {},
   "outputs": [],
   "source": [
    "withdrawal = ex.fetchWithdrawals(code=\"UST\")"
   ]
  },
  {
   "cell_type": "code",
   "execution_count": 12,
   "id": "bc20f0a3",
   "metadata": {},
   "outputs": [
    {
     "data": {
      "text/plain": [
       "[{'info': {'type': 'withdrawal',\n",
       "   'method': 'TerraUSD',\n",
       "   'aclass': 'currency',\n",
       "   'asset': 'UST',\n",
       "   'refid': 'BTONFTP-VR23ME-UDNKIJ',\n",
       "   'txid': 'c6553cf65c7be33fc213fd6be9ab89ff4fd6139652bb783073a3a4e2ed30d4ad',\n",
       "   'info': 'terra130v6rqy3pecgcja5t4juhlulfq8vmxjwg7vswm',\n",
       "   'amount': '1.000000',\n",
       "   'fee': '1.000000',\n",
       "   'time': '1649424778',\n",
       "   'status': 'Success'},\n",
       "  'id': 'BTONFTP-VR23ME-UDNKIJ',\n",
       "  'currency': 'UST',\n",
       "  'amount': 1.0,\n",
       "  'network': None,\n",
       "  'address': 'terra130v6rqy3pecgcja5t4juhlulfq8vmxjwg7vswm',\n",
       "  'addressTo': None,\n",
       "  'addressFrom': None,\n",
       "  'tag': None,\n",
       "  'tagTo': None,\n",
       "  'tagFrom': None,\n",
       "  'status': 'ok',\n",
       "  'type': 'withdrawal',\n",
       "  'updated': None,\n",
       "  'txid': 'c6553cf65c7be33fc213fd6be9ab89ff4fd6139652bb783073a3a4e2ed30d4ad',\n",
       "  'timestamp': 1649424778000,\n",
       "  'datetime': '2022-04-08T13:32:58.000Z',\n",
       "  'fee': {'currency': 'UST', 'cost': 1.0}},\n",
       " {'info': {'type': 'withdrawal',\n",
       "   'method': 'TerraUSD',\n",
       "   'aclass': 'currency',\n",
       "   'asset': 'UST',\n",
       "   'refid': 'BTOXTX5-FSNCGU-EYJ6ZD',\n",
       "   'txid': 'de093f761eb696e1db9b4961f16fc8eb26adc50e6b2670f7c0d2c081d95d4ec6',\n",
       "   'info': 'terra130v6rqy3pecgcja5t4juhlulfq8vmxjwg7vswm',\n",
       "   'amount': '2.000000',\n",
       "   'fee': '1.000000',\n",
       "   'time': '1649423359',\n",
       "   'status': 'Success'},\n",
       "  'id': 'BTOXTX5-FSNCGU-EYJ6ZD',\n",
       "  'currency': 'UST',\n",
       "  'amount': 2.0,\n",
       "  'network': None,\n",
       "  'address': 'terra130v6rqy3pecgcja5t4juhlulfq8vmxjwg7vswm',\n",
       "  'addressTo': None,\n",
       "  'addressFrom': None,\n",
       "  'tag': None,\n",
       "  'tagTo': None,\n",
       "  'tagFrom': None,\n",
       "  'status': 'ok',\n",
       "  'type': 'withdrawal',\n",
       "  'updated': None,\n",
       "  'txid': 'de093f761eb696e1db9b4961f16fc8eb26adc50e6b2670f7c0d2c081d95d4ec6',\n",
       "  'timestamp': 1649423359000,\n",
       "  'datetime': '2022-04-08T13:09:19.000Z',\n",
       "  'fee': {'currency': 'UST', 'cost': 1.0}}]"
      ]
     },
     "execution_count": 12,
     "metadata": {},
     "output_type": "execute_result"
    }
   ],
   "source": [
    "withdrawal"
   ]
  },
  {
   "cell_type": "code",
   "execution_count": 82,
   "id": "48f4e9b2",
   "metadata": {},
   "outputs": [
    {
     "name": "stdout",
     "output_type": "stream",
     "text": [
      "False\n"
     ]
    }
   ],
   "source": [
    "import requests\n",
    "def handleResp(resp):\n",
    "    if (resp['status']):\n",
    "        return resp['message']\n",
    "    else:\n",
    "        return False\n",
    "api_url = \"http://localhost:3010/\"\n",
    "resp =  requests.post(api_url + \"api/anchor\")\n",
    "print(handleResp(resp.json()))"
   ]
  },
  {
   "cell_type": "code",
   "execution_count": 81,
   "id": "4407dd52",
   "metadata": {},
   "outputs": [
    {
     "ename": "ConnectionError",
     "evalue": "('Connection aborted.', ConnectionResetError(10054, 'Une connexion existante a dû être fermée par l’hôte distant', None, 10054, None))",
     "output_type": "error",
     "traceback": [
      "\u001b[1;31m---------------------------------------------------------------------------\u001b[0m",
      "\u001b[1;31mConnectionResetError\u001b[0m                      Traceback (most recent call last)",
      "\u001b[1;32mc:\\users\\easygaming\\appdata\\local\\programs\\python\\python38\\lib\\site-packages\\urllib3\\connectionpool.py\u001b[0m in \u001b[0;36murlopen\u001b[1;34m(self, method, url, body, headers, retries, redirect, assert_same_host, timeout, pool_timeout, release_conn, chunked, body_pos, **response_kw)\u001b[0m\n\u001b[0;32m    698\u001b[0m             \u001b[1;31m# Make the request on the httplib connection object.\u001b[0m\u001b[1;33m\u001b[0m\u001b[1;33m\u001b[0m\u001b[1;33m\u001b[0m\u001b[0m\n\u001b[1;32m--> 699\u001b[1;33m             httplib_response = self._make_request(\n\u001b[0m\u001b[0;32m    700\u001b[0m                 \u001b[0mconn\u001b[0m\u001b[1;33m,\u001b[0m\u001b[1;33m\u001b[0m\u001b[1;33m\u001b[0m\u001b[0m\n",
      "\u001b[1;32mc:\\users\\easygaming\\appdata\\local\\programs\\python\\python38\\lib\\site-packages\\urllib3\\connectionpool.py\u001b[0m in \u001b[0;36m_make_request\u001b[1;34m(self, conn, method, url, timeout, chunked, **httplib_request_kw)\u001b[0m\n\u001b[0;32m    444\u001b[0m                     \u001b[1;31m# Otherwise it looks like a bug in the code.\u001b[0m\u001b[1;33m\u001b[0m\u001b[1;33m\u001b[0m\u001b[1;33m\u001b[0m\u001b[0m\n\u001b[1;32m--> 445\u001b[1;33m                     \u001b[0msix\u001b[0m\u001b[1;33m.\u001b[0m\u001b[0mraise_from\u001b[0m\u001b[1;33m(\u001b[0m\u001b[0me\u001b[0m\u001b[1;33m,\u001b[0m \u001b[1;32mNone\u001b[0m\u001b[1;33m)\u001b[0m\u001b[1;33m\u001b[0m\u001b[1;33m\u001b[0m\u001b[0m\n\u001b[0m\u001b[0;32m    446\u001b[0m         \u001b[1;32mexcept\u001b[0m \u001b[1;33m(\u001b[0m\u001b[0mSocketTimeout\u001b[0m\u001b[1;33m,\u001b[0m \u001b[0mBaseSSLError\u001b[0m\u001b[1;33m,\u001b[0m \u001b[0mSocketError\u001b[0m\u001b[1;33m)\u001b[0m \u001b[1;32mas\u001b[0m \u001b[0me\u001b[0m\u001b[1;33m:\u001b[0m\u001b[1;33m\u001b[0m\u001b[1;33m\u001b[0m\u001b[0m\n",
      "\u001b[1;32mc:\\users\\easygaming\\appdata\\local\\programs\\python\\python38\\lib\\site-packages\\urllib3\\packages\\six.py\u001b[0m in \u001b[0;36mraise_from\u001b[1;34m(value, from_value)\u001b[0m\n",
      "\u001b[1;32mc:\\users\\easygaming\\appdata\\local\\programs\\python\\python38\\lib\\site-packages\\urllib3\\connectionpool.py\u001b[0m in \u001b[0;36m_make_request\u001b[1;34m(self, conn, method, url, timeout, chunked, **httplib_request_kw)\u001b[0m\n\u001b[0;32m    439\u001b[0m                 \u001b[1;32mtry\u001b[0m\u001b[1;33m:\u001b[0m\u001b[1;33m\u001b[0m\u001b[1;33m\u001b[0m\u001b[0m\n\u001b[1;32m--> 440\u001b[1;33m                     \u001b[0mhttplib_response\u001b[0m \u001b[1;33m=\u001b[0m \u001b[0mconn\u001b[0m\u001b[1;33m.\u001b[0m\u001b[0mgetresponse\u001b[0m\u001b[1;33m(\u001b[0m\u001b[1;33m)\u001b[0m\u001b[1;33m\u001b[0m\u001b[1;33m\u001b[0m\u001b[0m\n\u001b[0m\u001b[0;32m    441\u001b[0m                 \u001b[1;32mexcept\u001b[0m \u001b[0mBaseException\u001b[0m \u001b[1;32mas\u001b[0m \u001b[0me\u001b[0m\u001b[1;33m:\u001b[0m\u001b[1;33m\u001b[0m\u001b[1;33m\u001b[0m\u001b[0m\n",
      "\u001b[1;32mc:\\users\\easygaming\\appdata\\local\\programs\\python\\python38\\lib\\http\\client.py\u001b[0m in \u001b[0;36mgetresponse\u001b[1;34m(self)\u001b[0m\n\u001b[0;32m   1331\u001b[0m             \u001b[1;32mtry\u001b[0m\u001b[1;33m:\u001b[0m\u001b[1;33m\u001b[0m\u001b[1;33m\u001b[0m\u001b[0m\n\u001b[1;32m-> 1332\u001b[1;33m                 \u001b[0mresponse\u001b[0m\u001b[1;33m.\u001b[0m\u001b[0mbegin\u001b[0m\u001b[1;33m(\u001b[0m\u001b[1;33m)\u001b[0m\u001b[1;33m\u001b[0m\u001b[1;33m\u001b[0m\u001b[0m\n\u001b[0m\u001b[0;32m   1333\u001b[0m             \u001b[1;32mexcept\u001b[0m \u001b[0mConnectionError\u001b[0m\u001b[1;33m:\u001b[0m\u001b[1;33m\u001b[0m\u001b[1;33m\u001b[0m\u001b[0m\n",
      "\u001b[1;32mc:\\users\\easygaming\\appdata\\local\\programs\\python\\python38\\lib\\http\\client.py\u001b[0m in \u001b[0;36mbegin\u001b[1;34m(self)\u001b[0m\n\u001b[0;32m    302\u001b[0m         \u001b[1;32mwhile\u001b[0m \u001b[1;32mTrue\u001b[0m\u001b[1;33m:\u001b[0m\u001b[1;33m\u001b[0m\u001b[1;33m\u001b[0m\u001b[0m\n\u001b[1;32m--> 303\u001b[1;33m             \u001b[0mversion\u001b[0m\u001b[1;33m,\u001b[0m \u001b[0mstatus\u001b[0m\u001b[1;33m,\u001b[0m \u001b[0mreason\u001b[0m \u001b[1;33m=\u001b[0m \u001b[0mself\u001b[0m\u001b[1;33m.\u001b[0m\u001b[0m_read_status\u001b[0m\u001b[1;33m(\u001b[0m\u001b[1;33m)\u001b[0m\u001b[1;33m\u001b[0m\u001b[1;33m\u001b[0m\u001b[0m\n\u001b[0m\u001b[0;32m    304\u001b[0m             \u001b[1;32mif\u001b[0m \u001b[0mstatus\u001b[0m \u001b[1;33m!=\u001b[0m \u001b[0mCONTINUE\u001b[0m\u001b[1;33m:\u001b[0m\u001b[1;33m\u001b[0m\u001b[1;33m\u001b[0m\u001b[0m\n",
      "\u001b[1;32mc:\\users\\easygaming\\appdata\\local\\programs\\python\\python38\\lib\\http\\client.py\u001b[0m in \u001b[0;36m_read_status\u001b[1;34m(self)\u001b[0m\n\u001b[0;32m    263\u001b[0m     \u001b[1;32mdef\u001b[0m \u001b[0m_read_status\u001b[0m\u001b[1;33m(\u001b[0m\u001b[0mself\u001b[0m\u001b[1;33m)\u001b[0m\u001b[1;33m:\u001b[0m\u001b[1;33m\u001b[0m\u001b[1;33m\u001b[0m\u001b[0m\n\u001b[1;32m--> 264\u001b[1;33m         \u001b[0mline\u001b[0m \u001b[1;33m=\u001b[0m \u001b[0mstr\u001b[0m\u001b[1;33m(\u001b[0m\u001b[0mself\u001b[0m\u001b[1;33m.\u001b[0m\u001b[0mfp\u001b[0m\u001b[1;33m.\u001b[0m\u001b[0mreadline\u001b[0m\u001b[1;33m(\u001b[0m\u001b[0m_MAXLINE\u001b[0m \u001b[1;33m+\u001b[0m \u001b[1;36m1\u001b[0m\u001b[1;33m)\u001b[0m\u001b[1;33m,\u001b[0m \u001b[1;34m\"iso-8859-1\"\u001b[0m\u001b[1;33m)\u001b[0m\u001b[1;33m\u001b[0m\u001b[1;33m\u001b[0m\u001b[0m\n\u001b[0m\u001b[0;32m    265\u001b[0m         \u001b[1;32mif\u001b[0m \u001b[0mlen\u001b[0m\u001b[1;33m(\u001b[0m\u001b[0mline\u001b[0m\u001b[1;33m)\u001b[0m \u001b[1;33m>\u001b[0m \u001b[0m_MAXLINE\u001b[0m\u001b[1;33m:\u001b[0m\u001b[1;33m\u001b[0m\u001b[1;33m\u001b[0m\u001b[0m\n",
      "\u001b[1;32mc:\\users\\easygaming\\appdata\\local\\programs\\python\\python38\\lib\\socket.py\u001b[0m in \u001b[0;36mreadinto\u001b[1;34m(self, b)\u001b[0m\n\u001b[0;32m    668\u001b[0m             \u001b[1;32mtry\u001b[0m\u001b[1;33m:\u001b[0m\u001b[1;33m\u001b[0m\u001b[1;33m\u001b[0m\u001b[0m\n\u001b[1;32m--> 669\u001b[1;33m                 \u001b[1;32mreturn\u001b[0m \u001b[0mself\u001b[0m\u001b[1;33m.\u001b[0m\u001b[0m_sock\u001b[0m\u001b[1;33m.\u001b[0m\u001b[0mrecv_into\u001b[0m\u001b[1;33m(\u001b[0m\u001b[0mb\u001b[0m\u001b[1;33m)\u001b[0m\u001b[1;33m\u001b[0m\u001b[1;33m\u001b[0m\u001b[0m\n\u001b[0m\u001b[0;32m    670\u001b[0m             \u001b[1;32mexcept\u001b[0m \u001b[0mtimeout\u001b[0m\u001b[1;33m:\u001b[0m\u001b[1;33m\u001b[0m\u001b[1;33m\u001b[0m\u001b[0m\n",
      "\u001b[1;31mConnectionResetError\u001b[0m: [WinError 10054] Une connexion existante a dû être fermée par l’hôte distant",
      "\nDuring handling of the above exception, another exception occurred:\n",
      "\u001b[1;31mProtocolError\u001b[0m                             Traceback (most recent call last)",
      "\u001b[1;32mc:\\users\\easygaming\\appdata\\local\\programs\\python\\python38\\lib\\site-packages\\requests\\adapters.py\u001b[0m in \u001b[0;36msend\u001b[1;34m(self, request, stream, timeout, verify, cert, proxies)\u001b[0m\n\u001b[0;32m    438\u001b[0m             \u001b[1;32mif\u001b[0m \u001b[1;32mnot\u001b[0m \u001b[0mchunked\u001b[0m\u001b[1;33m:\u001b[0m\u001b[1;33m\u001b[0m\u001b[1;33m\u001b[0m\u001b[0m\n\u001b[1;32m--> 439\u001b[1;33m                 resp = conn.urlopen(\n\u001b[0m\u001b[0;32m    440\u001b[0m                     \u001b[0mmethod\u001b[0m\u001b[1;33m=\u001b[0m\u001b[0mrequest\u001b[0m\u001b[1;33m.\u001b[0m\u001b[0mmethod\u001b[0m\u001b[1;33m,\u001b[0m\u001b[1;33m\u001b[0m\u001b[1;33m\u001b[0m\u001b[0m\n",
      "\u001b[1;32mc:\\users\\easygaming\\appdata\\local\\programs\\python\\python38\\lib\\site-packages\\urllib3\\connectionpool.py\u001b[0m in \u001b[0;36murlopen\u001b[1;34m(self, method, url, body, headers, retries, redirect, assert_same_host, timeout, pool_timeout, release_conn, chunked, body_pos, **response_kw)\u001b[0m\n\u001b[0;32m    754\u001b[0m \u001b[1;33m\u001b[0m\u001b[0m\n\u001b[1;32m--> 755\u001b[1;33m             retries = retries.increment(\n\u001b[0m\u001b[0;32m    756\u001b[0m                 \u001b[0mmethod\u001b[0m\u001b[1;33m,\u001b[0m \u001b[0murl\u001b[0m\u001b[1;33m,\u001b[0m \u001b[0merror\u001b[0m\u001b[1;33m=\u001b[0m\u001b[0me\u001b[0m\u001b[1;33m,\u001b[0m \u001b[0m_pool\u001b[0m\u001b[1;33m=\u001b[0m\u001b[0mself\u001b[0m\u001b[1;33m,\u001b[0m \u001b[0m_stacktrace\u001b[0m\u001b[1;33m=\u001b[0m\u001b[0msys\u001b[0m\u001b[1;33m.\u001b[0m\u001b[0mexc_info\u001b[0m\u001b[1;33m(\u001b[0m\u001b[1;33m)\u001b[0m\u001b[1;33m[\u001b[0m\u001b[1;36m2\u001b[0m\u001b[1;33m]\u001b[0m\u001b[1;33m\u001b[0m\u001b[1;33m\u001b[0m\u001b[0m\n",
      "\u001b[1;32mc:\\users\\easygaming\\appdata\\local\\programs\\python\\python38\\lib\\site-packages\\urllib3\\util\\retry.py\u001b[0m in \u001b[0;36mincrement\u001b[1;34m(self, method, url, response, error, _pool, _stacktrace)\u001b[0m\n\u001b[0;32m    531\u001b[0m             \u001b[1;32mif\u001b[0m \u001b[0mread\u001b[0m \u001b[1;32mis\u001b[0m \u001b[1;32mFalse\u001b[0m \u001b[1;32mor\u001b[0m \u001b[1;32mnot\u001b[0m \u001b[0mself\u001b[0m\u001b[1;33m.\u001b[0m\u001b[0m_is_method_retryable\u001b[0m\u001b[1;33m(\u001b[0m\u001b[0mmethod\u001b[0m\u001b[1;33m)\u001b[0m\u001b[1;33m:\u001b[0m\u001b[1;33m\u001b[0m\u001b[1;33m\u001b[0m\u001b[0m\n\u001b[1;32m--> 532\u001b[1;33m                 \u001b[1;32mraise\u001b[0m \u001b[0msix\u001b[0m\u001b[1;33m.\u001b[0m\u001b[0mreraise\u001b[0m\u001b[1;33m(\u001b[0m\u001b[0mtype\u001b[0m\u001b[1;33m(\u001b[0m\u001b[0merror\u001b[0m\u001b[1;33m)\u001b[0m\u001b[1;33m,\u001b[0m \u001b[0merror\u001b[0m\u001b[1;33m,\u001b[0m \u001b[0m_stacktrace\u001b[0m\u001b[1;33m)\u001b[0m\u001b[1;33m\u001b[0m\u001b[1;33m\u001b[0m\u001b[0m\n\u001b[0m\u001b[0;32m    533\u001b[0m             \u001b[1;32melif\u001b[0m \u001b[0mread\u001b[0m \u001b[1;32mis\u001b[0m \u001b[1;32mnot\u001b[0m \u001b[1;32mNone\u001b[0m\u001b[1;33m:\u001b[0m\u001b[1;33m\u001b[0m\u001b[1;33m\u001b[0m\u001b[0m\n",
      "\u001b[1;32mc:\\users\\easygaming\\appdata\\local\\programs\\python\\python38\\lib\\site-packages\\urllib3\\packages\\six.py\u001b[0m in \u001b[0;36mreraise\u001b[1;34m(tp, value, tb)\u001b[0m\n\u001b[0;32m    733\u001b[0m             \u001b[1;32mif\u001b[0m \u001b[0mvalue\u001b[0m\u001b[1;33m.\u001b[0m\u001b[0m__traceback__\u001b[0m \u001b[1;32mis\u001b[0m \u001b[1;32mnot\u001b[0m \u001b[0mtb\u001b[0m\u001b[1;33m:\u001b[0m\u001b[1;33m\u001b[0m\u001b[1;33m\u001b[0m\u001b[0m\n\u001b[1;32m--> 734\u001b[1;33m                 \u001b[1;32mraise\u001b[0m \u001b[0mvalue\u001b[0m\u001b[1;33m.\u001b[0m\u001b[0mwith_traceback\u001b[0m\u001b[1;33m(\u001b[0m\u001b[0mtb\u001b[0m\u001b[1;33m)\u001b[0m\u001b[1;33m\u001b[0m\u001b[1;33m\u001b[0m\u001b[0m\n\u001b[0m\u001b[0;32m    735\u001b[0m             \u001b[1;32mraise\u001b[0m \u001b[0mvalue\u001b[0m\u001b[1;33m\u001b[0m\u001b[1;33m\u001b[0m\u001b[0m\n",
      "\u001b[1;32mc:\\users\\easygaming\\appdata\\local\\programs\\python\\python38\\lib\\site-packages\\urllib3\\connectionpool.py\u001b[0m in \u001b[0;36murlopen\u001b[1;34m(self, method, url, body, headers, retries, redirect, assert_same_host, timeout, pool_timeout, release_conn, chunked, body_pos, **response_kw)\u001b[0m\n\u001b[0;32m    698\u001b[0m             \u001b[1;31m# Make the request on the httplib connection object.\u001b[0m\u001b[1;33m\u001b[0m\u001b[1;33m\u001b[0m\u001b[1;33m\u001b[0m\u001b[0m\n\u001b[1;32m--> 699\u001b[1;33m             httplib_response = self._make_request(\n\u001b[0m\u001b[0;32m    700\u001b[0m                 \u001b[0mconn\u001b[0m\u001b[1;33m,\u001b[0m\u001b[1;33m\u001b[0m\u001b[1;33m\u001b[0m\u001b[0m\n",
      "\u001b[1;32mc:\\users\\easygaming\\appdata\\local\\programs\\python\\python38\\lib\\site-packages\\urllib3\\connectionpool.py\u001b[0m in \u001b[0;36m_make_request\u001b[1;34m(self, conn, method, url, timeout, chunked, **httplib_request_kw)\u001b[0m\n\u001b[0;32m    444\u001b[0m                     \u001b[1;31m# Otherwise it looks like a bug in the code.\u001b[0m\u001b[1;33m\u001b[0m\u001b[1;33m\u001b[0m\u001b[1;33m\u001b[0m\u001b[0m\n\u001b[1;32m--> 445\u001b[1;33m                     \u001b[0msix\u001b[0m\u001b[1;33m.\u001b[0m\u001b[0mraise_from\u001b[0m\u001b[1;33m(\u001b[0m\u001b[0me\u001b[0m\u001b[1;33m,\u001b[0m \u001b[1;32mNone\u001b[0m\u001b[1;33m)\u001b[0m\u001b[1;33m\u001b[0m\u001b[1;33m\u001b[0m\u001b[0m\n\u001b[0m\u001b[0;32m    446\u001b[0m         \u001b[1;32mexcept\u001b[0m \u001b[1;33m(\u001b[0m\u001b[0mSocketTimeout\u001b[0m\u001b[1;33m,\u001b[0m \u001b[0mBaseSSLError\u001b[0m\u001b[1;33m,\u001b[0m \u001b[0mSocketError\u001b[0m\u001b[1;33m)\u001b[0m \u001b[1;32mas\u001b[0m \u001b[0me\u001b[0m\u001b[1;33m:\u001b[0m\u001b[1;33m\u001b[0m\u001b[1;33m\u001b[0m\u001b[0m\n",
      "\u001b[1;32mc:\\users\\easygaming\\appdata\\local\\programs\\python\\python38\\lib\\site-packages\\urllib3\\packages\\six.py\u001b[0m in \u001b[0;36mraise_from\u001b[1;34m(value, from_value)\u001b[0m\n",
      "\u001b[1;32mc:\\users\\easygaming\\appdata\\local\\programs\\python\\python38\\lib\\site-packages\\urllib3\\connectionpool.py\u001b[0m in \u001b[0;36m_make_request\u001b[1;34m(self, conn, method, url, timeout, chunked, **httplib_request_kw)\u001b[0m\n\u001b[0;32m    439\u001b[0m                 \u001b[1;32mtry\u001b[0m\u001b[1;33m:\u001b[0m\u001b[1;33m\u001b[0m\u001b[1;33m\u001b[0m\u001b[0m\n\u001b[1;32m--> 440\u001b[1;33m                     \u001b[0mhttplib_response\u001b[0m \u001b[1;33m=\u001b[0m \u001b[0mconn\u001b[0m\u001b[1;33m.\u001b[0m\u001b[0mgetresponse\u001b[0m\u001b[1;33m(\u001b[0m\u001b[1;33m)\u001b[0m\u001b[1;33m\u001b[0m\u001b[1;33m\u001b[0m\u001b[0m\n\u001b[0m\u001b[0;32m    441\u001b[0m                 \u001b[1;32mexcept\u001b[0m \u001b[0mBaseException\u001b[0m \u001b[1;32mas\u001b[0m \u001b[0me\u001b[0m\u001b[1;33m:\u001b[0m\u001b[1;33m\u001b[0m\u001b[1;33m\u001b[0m\u001b[0m\n",
      "\u001b[1;32mc:\\users\\easygaming\\appdata\\local\\programs\\python\\python38\\lib\\http\\client.py\u001b[0m in \u001b[0;36mgetresponse\u001b[1;34m(self)\u001b[0m\n\u001b[0;32m   1331\u001b[0m             \u001b[1;32mtry\u001b[0m\u001b[1;33m:\u001b[0m\u001b[1;33m\u001b[0m\u001b[1;33m\u001b[0m\u001b[0m\n\u001b[1;32m-> 1332\u001b[1;33m                 \u001b[0mresponse\u001b[0m\u001b[1;33m.\u001b[0m\u001b[0mbegin\u001b[0m\u001b[1;33m(\u001b[0m\u001b[1;33m)\u001b[0m\u001b[1;33m\u001b[0m\u001b[1;33m\u001b[0m\u001b[0m\n\u001b[0m\u001b[0;32m   1333\u001b[0m             \u001b[1;32mexcept\u001b[0m \u001b[0mConnectionError\u001b[0m\u001b[1;33m:\u001b[0m\u001b[1;33m\u001b[0m\u001b[1;33m\u001b[0m\u001b[0m\n",
      "\u001b[1;32mc:\\users\\easygaming\\appdata\\local\\programs\\python\\python38\\lib\\http\\client.py\u001b[0m in \u001b[0;36mbegin\u001b[1;34m(self)\u001b[0m\n\u001b[0;32m    302\u001b[0m         \u001b[1;32mwhile\u001b[0m \u001b[1;32mTrue\u001b[0m\u001b[1;33m:\u001b[0m\u001b[1;33m\u001b[0m\u001b[1;33m\u001b[0m\u001b[0m\n\u001b[1;32m--> 303\u001b[1;33m             \u001b[0mversion\u001b[0m\u001b[1;33m,\u001b[0m \u001b[0mstatus\u001b[0m\u001b[1;33m,\u001b[0m \u001b[0mreason\u001b[0m \u001b[1;33m=\u001b[0m \u001b[0mself\u001b[0m\u001b[1;33m.\u001b[0m\u001b[0m_read_status\u001b[0m\u001b[1;33m(\u001b[0m\u001b[1;33m)\u001b[0m\u001b[1;33m\u001b[0m\u001b[1;33m\u001b[0m\u001b[0m\n\u001b[0m\u001b[0;32m    304\u001b[0m             \u001b[1;32mif\u001b[0m \u001b[0mstatus\u001b[0m \u001b[1;33m!=\u001b[0m \u001b[0mCONTINUE\u001b[0m\u001b[1;33m:\u001b[0m\u001b[1;33m\u001b[0m\u001b[1;33m\u001b[0m\u001b[0m\n",
      "\u001b[1;32mc:\\users\\easygaming\\appdata\\local\\programs\\python\\python38\\lib\\http\\client.py\u001b[0m in \u001b[0;36m_read_status\u001b[1;34m(self)\u001b[0m\n\u001b[0;32m    263\u001b[0m     \u001b[1;32mdef\u001b[0m \u001b[0m_read_status\u001b[0m\u001b[1;33m(\u001b[0m\u001b[0mself\u001b[0m\u001b[1;33m)\u001b[0m\u001b[1;33m:\u001b[0m\u001b[1;33m\u001b[0m\u001b[1;33m\u001b[0m\u001b[0m\n\u001b[1;32m--> 264\u001b[1;33m         \u001b[0mline\u001b[0m \u001b[1;33m=\u001b[0m \u001b[0mstr\u001b[0m\u001b[1;33m(\u001b[0m\u001b[0mself\u001b[0m\u001b[1;33m.\u001b[0m\u001b[0mfp\u001b[0m\u001b[1;33m.\u001b[0m\u001b[0mreadline\u001b[0m\u001b[1;33m(\u001b[0m\u001b[0m_MAXLINE\u001b[0m \u001b[1;33m+\u001b[0m \u001b[1;36m1\u001b[0m\u001b[1;33m)\u001b[0m\u001b[1;33m,\u001b[0m \u001b[1;34m\"iso-8859-1\"\u001b[0m\u001b[1;33m)\u001b[0m\u001b[1;33m\u001b[0m\u001b[1;33m\u001b[0m\u001b[0m\n\u001b[0m\u001b[0;32m    265\u001b[0m         \u001b[1;32mif\u001b[0m \u001b[0mlen\u001b[0m\u001b[1;33m(\u001b[0m\u001b[0mline\u001b[0m\u001b[1;33m)\u001b[0m \u001b[1;33m>\u001b[0m \u001b[0m_MAXLINE\u001b[0m\u001b[1;33m:\u001b[0m\u001b[1;33m\u001b[0m\u001b[1;33m\u001b[0m\u001b[0m\n",
      "\u001b[1;32mc:\\users\\easygaming\\appdata\\local\\programs\\python\\python38\\lib\\socket.py\u001b[0m in \u001b[0;36mreadinto\u001b[1;34m(self, b)\u001b[0m\n\u001b[0;32m    668\u001b[0m             \u001b[1;32mtry\u001b[0m\u001b[1;33m:\u001b[0m\u001b[1;33m\u001b[0m\u001b[1;33m\u001b[0m\u001b[0m\n\u001b[1;32m--> 669\u001b[1;33m                 \u001b[1;32mreturn\u001b[0m \u001b[0mself\u001b[0m\u001b[1;33m.\u001b[0m\u001b[0m_sock\u001b[0m\u001b[1;33m.\u001b[0m\u001b[0mrecv_into\u001b[0m\u001b[1;33m(\u001b[0m\u001b[0mb\u001b[0m\u001b[1;33m)\u001b[0m\u001b[1;33m\u001b[0m\u001b[1;33m\u001b[0m\u001b[0m\n\u001b[0m\u001b[0;32m    670\u001b[0m             \u001b[1;32mexcept\u001b[0m \u001b[0mtimeout\u001b[0m\u001b[1;33m:\u001b[0m\u001b[1;33m\u001b[0m\u001b[1;33m\u001b[0m\u001b[0m\n",
      "\u001b[1;31mProtocolError\u001b[0m: ('Connection aborted.', ConnectionResetError(10054, 'Une connexion existante a dû être fermée par l’hôte distant', None, 10054, None))",
      "\nDuring handling of the above exception, another exception occurred:\n",
      "\u001b[1;31mConnectionError\u001b[0m                           Traceback (most recent call last)",
      "\u001b[1;32m<ipython-input-81-cbd3fbb7b081>\u001b[0m in \u001b[0;36m<module>\u001b[1;34m\u001b[0m\n\u001b[1;32m----> 1\u001b[1;33m \u001b[0mresp2\u001b[0m \u001b[1;33m=\u001b[0m \u001b[0mrequests\u001b[0m\u001b[1;33m.\u001b[0m\u001b[0mpost\u001b[0m\u001b[1;33m(\u001b[0m\u001b[0mapi_url\u001b[0m \u001b[1;33m+\u001b[0m \u001b[1;34m\"api/anchor/deposit\"\u001b[0m\u001b[1;33m)\u001b[0m\u001b[1;33m\u001b[0m\u001b[1;33m\u001b[0m\u001b[0m\n\u001b[0m\u001b[0;32m      2\u001b[0m \u001b[0mprint\u001b[0m\u001b[1;33m(\u001b[0m\u001b[0mhandleResp\u001b[0m\u001b[1;33m(\u001b[0m\u001b[0mresp2\u001b[0m\u001b[1;33m.\u001b[0m\u001b[0mjson\u001b[0m\u001b[1;33m(\u001b[0m\u001b[1;33m)\u001b[0m\u001b[1;33m)\u001b[0m\u001b[1;33m)\u001b[0m\u001b[1;33m\u001b[0m\u001b[1;33m\u001b[0m\u001b[0m\n",
      "\u001b[1;32mc:\\users\\easygaming\\appdata\\local\\programs\\python\\python38\\lib\\site-packages\\requests\\api.py\u001b[0m in \u001b[0;36mpost\u001b[1;34m(url, data, json, **kwargs)\u001b[0m\n\u001b[0;32m    117\u001b[0m     \"\"\"\n\u001b[0;32m    118\u001b[0m \u001b[1;33m\u001b[0m\u001b[0m\n\u001b[1;32m--> 119\u001b[1;33m     \u001b[1;32mreturn\u001b[0m \u001b[0mrequest\u001b[0m\u001b[1;33m(\u001b[0m\u001b[1;34m'post'\u001b[0m\u001b[1;33m,\u001b[0m \u001b[0murl\u001b[0m\u001b[1;33m,\u001b[0m \u001b[0mdata\u001b[0m\u001b[1;33m=\u001b[0m\u001b[0mdata\u001b[0m\u001b[1;33m,\u001b[0m \u001b[0mjson\u001b[0m\u001b[1;33m=\u001b[0m\u001b[0mjson\u001b[0m\u001b[1;33m,\u001b[0m \u001b[1;33m**\u001b[0m\u001b[0mkwargs\u001b[0m\u001b[1;33m)\u001b[0m\u001b[1;33m\u001b[0m\u001b[1;33m\u001b[0m\u001b[0m\n\u001b[0m\u001b[0;32m    120\u001b[0m \u001b[1;33m\u001b[0m\u001b[0m\n\u001b[0;32m    121\u001b[0m \u001b[1;33m\u001b[0m\u001b[0m\n",
      "\u001b[1;32mc:\\users\\easygaming\\appdata\\local\\programs\\python\\python38\\lib\\site-packages\\requests\\api.py\u001b[0m in \u001b[0;36mrequest\u001b[1;34m(method, url, **kwargs)\u001b[0m\n\u001b[0;32m     59\u001b[0m     \u001b[1;31m# cases, and look like a memory leak in others.\u001b[0m\u001b[1;33m\u001b[0m\u001b[1;33m\u001b[0m\u001b[1;33m\u001b[0m\u001b[0m\n\u001b[0;32m     60\u001b[0m     \u001b[1;32mwith\u001b[0m \u001b[0msessions\u001b[0m\u001b[1;33m.\u001b[0m\u001b[0mSession\u001b[0m\u001b[1;33m(\u001b[0m\u001b[1;33m)\u001b[0m \u001b[1;32mas\u001b[0m \u001b[0msession\u001b[0m\u001b[1;33m:\u001b[0m\u001b[1;33m\u001b[0m\u001b[1;33m\u001b[0m\u001b[0m\n\u001b[1;32m---> 61\u001b[1;33m         \u001b[1;32mreturn\u001b[0m \u001b[0msession\u001b[0m\u001b[1;33m.\u001b[0m\u001b[0mrequest\u001b[0m\u001b[1;33m(\u001b[0m\u001b[0mmethod\u001b[0m\u001b[1;33m=\u001b[0m\u001b[0mmethod\u001b[0m\u001b[1;33m,\u001b[0m \u001b[0murl\u001b[0m\u001b[1;33m=\u001b[0m\u001b[0murl\u001b[0m\u001b[1;33m,\u001b[0m \u001b[1;33m**\u001b[0m\u001b[0mkwargs\u001b[0m\u001b[1;33m)\u001b[0m\u001b[1;33m\u001b[0m\u001b[1;33m\u001b[0m\u001b[0m\n\u001b[0m\u001b[0;32m     62\u001b[0m \u001b[1;33m\u001b[0m\u001b[0m\n\u001b[0;32m     63\u001b[0m \u001b[1;33m\u001b[0m\u001b[0m\n",
      "\u001b[1;32mc:\\users\\easygaming\\appdata\\local\\programs\\python\\python38\\lib\\site-packages\\requests\\sessions.py\u001b[0m in \u001b[0;36mrequest\u001b[1;34m(self, method, url, params, data, headers, cookies, files, auth, timeout, allow_redirects, proxies, hooks, stream, verify, cert, json)\u001b[0m\n\u001b[0;32m    540\u001b[0m         }\n\u001b[0;32m    541\u001b[0m         \u001b[0msend_kwargs\u001b[0m\u001b[1;33m.\u001b[0m\u001b[0mupdate\u001b[0m\u001b[1;33m(\u001b[0m\u001b[0msettings\u001b[0m\u001b[1;33m)\u001b[0m\u001b[1;33m\u001b[0m\u001b[1;33m\u001b[0m\u001b[0m\n\u001b[1;32m--> 542\u001b[1;33m         \u001b[0mresp\u001b[0m \u001b[1;33m=\u001b[0m \u001b[0mself\u001b[0m\u001b[1;33m.\u001b[0m\u001b[0msend\u001b[0m\u001b[1;33m(\u001b[0m\u001b[0mprep\u001b[0m\u001b[1;33m,\u001b[0m \u001b[1;33m**\u001b[0m\u001b[0msend_kwargs\u001b[0m\u001b[1;33m)\u001b[0m\u001b[1;33m\u001b[0m\u001b[1;33m\u001b[0m\u001b[0m\n\u001b[0m\u001b[0;32m    543\u001b[0m \u001b[1;33m\u001b[0m\u001b[0m\n\u001b[0;32m    544\u001b[0m         \u001b[1;32mreturn\u001b[0m \u001b[0mresp\u001b[0m\u001b[1;33m\u001b[0m\u001b[1;33m\u001b[0m\u001b[0m\n",
      "\u001b[1;32mc:\\users\\easygaming\\appdata\\local\\programs\\python\\python38\\lib\\site-packages\\requests\\sessions.py\u001b[0m in \u001b[0;36msend\u001b[1;34m(self, request, **kwargs)\u001b[0m\n\u001b[0;32m    653\u001b[0m \u001b[1;33m\u001b[0m\u001b[0m\n\u001b[0;32m    654\u001b[0m         \u001b[1;31m# Send the request\u001b[0m\u001b[1;33m\u001b[0m\u001b[1;33m\u001b[0m\u001b[1;33m\u001b[0m\u001b[0m\n\u001b[1;32m--> 655\u001b[1;33m         \u001b[0mr\u001b[0m \u001b[1;33m=\u001b[0m \u001b[0madapter\u001b[0m\u001b[1;33m.\u001b[0m\u001b[0msend\u001b[0m\u001b[1;33m(\u001b[0m\u001b[0mrequest\u001b[0m\u001b[1;33m,\u001b[0m \u001b[1;33m**\u001b[0m\u001b[0mkwargs\u001b[0m\u001b[1;33m)\u001b[0m\u001b[1;33m\u001b[0m\u001b[1;33m\u001b[0m\u001b[0m\n\u001b[0m\u001b[0;32m    656\u001b[0m \u001b[1;33m\u001b[0m\u001b[0m\n\u001b[0;32m    657\u001b[0m         \u001b[1;31m# Total elapsed time of the request (approximately)\u001b[0m\u001b[1;33m\u001b[0m\u001b[1;33m\u001b[0m\u001b[1;33m\u001b[0m\u001b[0m\n",
      "\u001b[1;32mc:\\users\\easygaming\\appdata\\local\\programs\\python\\python38\\lib\\site-packages\\requests\\adapters.py\u001b[0m in \u001b[0;36msend\u001b[1;34m(self, request, stream, timeout, verify, cert, proxies)\u001b[0m\n\u001b[0;32m    496\u001b[0m \u001b[1;33m\u001b[0m\u001b[0m\n\u001b[0;32m    497\u001b[0m         \u001b[1;32mexcept\u001b[0m \u001b[1;33m(\u001b[0m\u001b[0mProtocolError\u001b[0m\u001b[1;33m,\u001b[0m \u001b[0msocket\u001b[0m\u001b[1;33m.\u001b[0m\u001b[0merror\u001b[0m\u001b[1;33m)\u001b[0m \u001b[1;32mas\u001b[0m \u001b[0merr\u001b[0m\u001b[1;33m:\u001b[0m\u001b[1;33m\u001b[0m\u001b[1;33m\u001b[0m\u001b[0m\n\u001b[1;32m--> 498\u001b[1;33m             \u001b[1;32mraise\u001b[0m \u001b[0mConnectionError\u001b[0m\u001b[1;33m(\u001b[0m\u001b[0merr\u001b[0m\u001b[1;33m,\u001b[0m \u001b[0mrequest\u001b[0m\u001b[1;33m=\u001b[0m\u001b[0mrequest\u001b[0m\u001b[1;33m)\u001b[0m\u001b[1;33m\u001b[0m\u001b[1;33m\u001b[0m\u001b[0m\n\u001b[0m\u001b[0;32m    499\u001b[0m \u001b[1;33m\u001b[0m\u001b[0m\n\u001b[0;32m    500\u001b[0m         \u001b[1;32mexcept\u001b[0m \u001b[0mMaxRetryError\u001b[0m \u001b[1;32mas\u001b[0m \u001b[0me\u001b[0m\u001b[1;33m:\u001b[0m\u001b[1;33m\u001b[0m\u001b[1;33m\u001b[0m\u001b[0m\n",
      "\u001b[1;31mConnectionError\u001b[0m: ('Connection aborted.', ConnectionResetError(10054, 'Une connexion existante a dû être fermée par l’hôte distant', None, 10054, None))"
     ]
    }
   ],
   "source": [
    "resp2 = requests.post(api_url + \"api/anchor/deposit\")\n",
    "print(handleResp(resp2.json()))"
   ]
  },
  {
   "cell_type": "code",
   "execution_count": 75,
   "id": "24358c14",
   "metadata": {},
   "outputs": [
    {
     "data": {
      "text/plain": [
       "{'status': True, 'message': 'ready to deposit'}"
      ]
     },
     "execution_count": 75,
     "metadata": {},
     "output_type": "execute_result"
    }
   ],
   "source": [
    "resp.json()"
   ]
  },
  {
   "cell_type": "code",
   "execution_count": null,
   "id": "296c8099",
   "metadata": {},
   "outputs": [],
   "source": []
  }
 ],
 "metadata": {
  "kernelspec": {
   "display_name": "Python 3",
   "language": "python",
   "name": "python3"
  },
  "language_info": {
   "codemirror_mode": {
    "name": "ipython",
    "version": 3
   },
   "file_extension": ".py",
   "mimetype": "text/x-python",
   "name": "python",
   "nbconvert_exporter": "python",
   "pygments_lexer": "ipython3",
   "version": "3.8.3"
  }
 },
 "nbformat": 4,
 "nbformat_minor": 5
}
