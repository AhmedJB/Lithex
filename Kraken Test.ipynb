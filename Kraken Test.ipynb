{
 "cells": [
  {
   "cell_type": "code",
   "execution_count": 1,
   "id": "46e908df",
   "metadata": {},
   "outputs": [],
   "source": [
    "#imports here\n",
    "import ccxt\n"
   ]
  },
  {
   "cell_type": "code",
   "execution_count": 4,
   "id": "315bfa25",
   "metadata": {},
   "outputs": [
    {
     "name": "stdout",
     "output_type": "stream",
     "text": [
      "74\n"
     ]
    }
   ],
   "source": [
    "print(ccxt.exchanges.index(\"kraken\"))"
   ]
  },
  {
   "cell_type": "code",
   "execution_count": 5,
   "id": "a99a899f",
   "metadata": {},
   "outputs": [],
   "source": [
    "api_key = \"cFT6E0pHVjn6TWTCA3QHi19zmT3LYXrRxKTmiYPBHqKBQfc8JZLX00kB\"\n",
    "api_secret = \"7IEhBkHo+u2yH6oU2Uzd7BTJlT5eD/o0WxXRUISxzpQMv1W5RKsCG1COWMtUVT9GK5q8tMYAyYszpH3NPkm+1Q==\""
   ]
  },
  {
   "cell_type": "code",
   "execution_count": 7,
   "id": "f4e764d8",
   "metadata": {},
   "outputs": [],
   "source": [
    "exchange_class = getattr(ccxt,\"kraken\")"
   ]
  },
  {
   "cell_type": "code",
   "execution_count": 8,
   "id": "0cbfe5a0",
   "metadata": {},
   "outputs": [],
   "source": [
    "ex  = exchange_class({\n",
    "    'apiKey':api_key,\n",
    "    'secret':api_secret\n",
    "})"
   ]
  },
  {
   "cell_type": "code",
   "execution_count": 9,
   "id": "d39d9374",
   "metadata": {},
   "outputs": [],
   "source": [
    "markets = ex.load_markets()"
   ]
  },
  {
   "cell_type": "code",
   "execution_count": 55,
   "id": "9a7763ea",
   "metadata": {},
   "outputs": [],
   "source": [
    "balance = ex.fetch_balance()"
   ]
  },
  {
   "cell_type": "code",
   "execution_count": 56,
   "id": "6889b20b",
   "metadata": {},
   "outputs": [
    {
     "data": {
      "text/plain": [
       "{'info': {'error': [],\n",
       "  'result': {'USDT': '0.20227201', 'UST': '28.50825277', 'ZGBP': '26.0251'}},\n",
       " 'timestamp': None,\n",
       " 'datetime': None,\n",
       " 'USDT': {'free': None, 'used': None, 'total': 0.20227201},\n",
       " 'UST': {'free': None, 'used': None, 'total': 28.50825277},\n",
       " 'GBP': {'free': None, 'used': None, 'total': 26.0251},\n",
       " 'free': {'USDT': None, 'UST': None, 'GBP': None},\n",
       " 'used': {'USDT': None, 'UST': None, 'GBP': None},\n",
       " 'total': {'USDT': 0.20227201, 'UST': 28.50825277, 'GBP': 26.0251}}"
      ]
     },
     "execution_count": 56,
     "metadata": {},
     "output_type": "execute_result"
    }
   ],
   "source": [
    "balance"
   ]
  },
  {
   "cell_type": "code",
   "execution_count": 16,
   "id": "9af11edb",
   "metadata": {},
   "outputs": [
    {
     "name": "stdout",
     "output_type": "stream",
     "text": [
      "['AAVE/BTC', 'ADA/BTC', 'ALGO/BTC', 'ANKR/BTC', 'ANT/BTC', 'ATOM/BTC', 'BAL/BTC', 'BAT/BTC', 'BCH/BTC', 'BNT/BTC', 'BTC/AUD', 'BTC/CAD', 'BTC/CHF', 'BTC/DAI', 'BTC/EUR', 'BTC/GBP', 'BTC/JPY', 'BTC/USD', 'BTC/USDC', 'BTC/USDT', 'COMP/BTC', 'CRV/BTC', 'DASH/BTC', 'DOGE/BTC', 'DOT/BTC', 'ENJ/BTC', 'EOS/BTC', 'ETC/BTC', 'ETH/BTC', 'EWT/BTC', 'FIL/BTC', 'FLOW/BTC', 'GHST/BTC', 'GNO/BTC', 'GRT/BTC', 'ICX/BTC', 'KAVA/BTC', 'KEEP/BTC', 'KNC/BTC', 'KSM/BTC', 'LINK/BTC', 'LPT/BTC', 'LSK/BTC', 'LTC/BTC', 'MANA/BTC', 'MATIC/BTC', 'MINA/BTC', 'MKR/BTC', 'MLN/BTC', 'NANO/BTC', 'OCEAN/BTC', 'OMG/BTC', 'OXT/BTC', 'PAXG/BTC', 'QTUM/BTC', 'RARI/BTC', 'REN/BTC', 'REP/BTC', 'REPV1/BTC', 'SAND/BTC', 'SC/BTC', 'SNX/BTC', 'SOL/BTC', 'SRM/BTC', 'STORJ/BTC', 'SUSHI/BTC', 'TBTC/BTC', 'TBTC/ETH', 'TBTC/EUR', 'TBTC/USD', 'TRX/BTC', 'UNI/BTC', 'WAVES/BTC', 'WBTC/BTC', 'WBTC/EUR', 'WBTC/USD', 'XLM/BTC', 'XMR/BTC', 'XRP/BTC', 'XTZ/BTC', 'YFI/BTC', 'ZEC/BTC', 'ZRX/BTC']\n"
     ]
    }
   ],
   "source": [
    "symbols = ex.symbols\n",
    "filtered_symbols = []\n",
    "for symbol in symbols:\n",
    "    if 'BTC' in symbol:\n",
    "        filtered_symbols.append(symbol)\n",
    "        \n",
    "print(filtered_symbols)"
   ]
  },
  {
   "cell_type": "code",
   "execution_count": 23,
   "id": "77246cf2",
   "metadata": {},
   "outputs": [],
   "source": [
    "def get_price(pair,ex):\n",
    "    orderbook = ex.fetch_order_book(pair)\n",
    "    bid = orderbook['bids'][0][0] if len (orderbook['bids']) > 0 else None\n",
    "    ask = orderbook['asks'][0][0] if len (orderbook['asks']) > 0 else None\n",
    "    return ask\n",
    "\n"
   ]
  },
  {
   "cell_type": "code",
   "execution_count": 24,
   "id": "82fdfff8",
   "metadata": {},
   "outputs": [],
   "source": [
    "price = get_price(\"UST/USDT\",ex)"
   ]
  },
  {
   "cell_type": "code",
   "execution_count": 25,
   "id": "aa7708ac",
   "metadata": {},
   "outputs": [
    {
     "data": {
      "text/plain": [
       "28.90000001"
      ]
     },
     "execution_count": 25,
     "metadata": {},
     "output_type": "execute_result"
    }
   ],
   "source": [
    "balance['total']['USDT']"
   ]
  },
  {
   "cell_type": "code",
   "execution_count": 26,
   "id": "fb646e0c",
   "metadata": {},
   "outputs": [],
   "source": [
    "def get_perc_amount(amount,perc):\n",
    "    return round(amount  * perc , 8)\n"
   ]
  },
  {
   "cell_type": "code",
   "execution_count": 29,
   "id": "d767edcf",
   "metadata": {},
   "outputs": [
    {
     "name": "stdout",
     "output_type": "stream",
     "text": [
      "27.46872751\n"
     ]
    }
   ],
   "source": [
    "trade_amount = get_perc_amount(balance['total']['USDT']  * price,0.95)\n",
    "print(trade_amount)"
   ]
  },
  {
   "cell_type": "code",
   "execution_count": 32,
   "id": "a7f202b1",
   "metadata": {},
   "outputs": [
    {
     "name": "stdout",
     "output_type": "stream",
     "text": [
      "{'id': 'OAVOTI-2IEEV-J6K4IZ', 'clientOrderId': None, 'info': {'txid': ['OAVOTI-2IEEV-J6K4IZ'], 'descr': {'order': 'buy 27.46872751 USTUSDT @ market'}}, 'timestamp': None, 'datetime': None, 'lastTradeTimestamp': None, 'status': None, 'symbol': 'UST/USDT', 'type': 'market', 'timeInForce': None, 'postOnly': None, 'side': 'buy', 'price': None, 'stopPrice': None, 'cost': None, 'amount': 27.46872751, 'filled': None, 'average': None, 'remaining': None, 'fee': None, 'trades': None, 'fees': []}\n"
     ]
    }
   ],
   "source": [
    "res = ex.create_market_buy_order('UST/USDT',trade_amount)\n",
    "print(res)"
   ]
  },
  {
   "cell_type": "code",
   "execution_count": 31,
   "id": "10e9485c",
   "metadata": {},
   "outputs": [
    {
     "data": {
      "text/plain": [
       "True"
      ]
     },
     "execution_count": 31,
     "metadata": {},
     "output_type": "execute_result"
    }
   ],
   "source": [
    "ex.has['createMarketOrder']"
   ]
  },
  {
   "cell_type": "code",
   "execution_count": 38,
   "id": "d6262f65",
   "metadata": {},
   "outputs": [],
   "source": [
    "total_usdt = balance['total']['USDT']\n",
    "trade_amount = get_perc_amount(total_usdt  * get_price(\"UST/USDT\",ex) , 0.99)\n",
    "formated = ex.amount_to_precision(\"UST/USDT\",trade_amount)"
   ]
  },
  {
   "cell_type": "code",
   "execution_count": 39,
   "id": "303d5cfb",
   "metadata": {},
   "outputs": [
    {
     "data": {
      "text/plain": [
       "'1.34457213'"
      ]
     },
     "execution_count": 39,
     "metadata": {},
     "output_type": "execute_result"
    }
   ],
   "source": [
    "formated"
   ]
  },
  {
   "cell_type": "code",
   "execution_count": 58,
   "id": "16081860",
   "metadata": {},
   "outputs": [
    {
     "data": {
      "text/plain": [
       "{'percentage': True,\n",
       " 'tierBased': True,\n",
       " 'taker': 0.002,\n",
       " 'maker': 0.002,\n",
       " 'tiers': {'taker': [[0, 0.0026],\n",
       "   [50000, 0.0024],\n",
       "   [100000, 0.0022],\n",
       "   [250000, 0.002],\n",
       "   [500000, 0.0018],\n",
       "   [1000000, 0.0016],\n",
       "   [2500000, 0.0014],\n",
       "   [5000000, 0.0012],\n",
       "   [10000000, 0.0001]],\n",
       "  'maker': [[0, 0.0016],\n",
       "   [50000, 0.0014],\n",
       "   [100000, 0.0012],\n",
       "   [250000, 0.001],\n",
       "   [500000, 0.0008],\n",
       "   [1000000, 0.0006],\n",
       "   [2500000, 0.0004],\n",
       "   [5000000, 0.0002],\n",
       "   [10000000, 0.0]]},\n",
       " 'precision': {'amount': 8, 'price': 4},\n",
       " 'limits': {'amount': {'min': 5.0, 'max': 100000000.0},\n",
       "  'price': {'min': 0.0001, 'max': None},\n",
       "  'cost': {'min': 0, 'max': None},\n",
       "  'leverage': {'max': 1}},\n",
       " 'id': 'USTUSDT',\n",
       " 'symbol': 'UST/USDT',\n",
       " 'base': 'UST',\n",
       " 'quote': 'USDT',\n",
       " 'baseId': 'UST',\n",
       " 'quoteId': 'USDT',\n",
       " 'darkpool': False,\n",
       " 'info': {'altname': 'USTUSDT',\n",
       "  'wsname': 'UST/USDT',\n",
       "  'aclass_base': 'currency',\n",
       "  'base': 'UST',\n",
       "  'aclass_quote': 'currency',\n",
       "  'quote': 'USDT',\n",
       "  'lot': 'unit',\n",
       "  'pair_decimals': '4',\n",
       "  'lot_decimals': '8',\n",
       "  'lot_multiplier': '1',\n",
       "  'leverage_buy': [],\n",
       "  'leverage_sell': [],\n",
       "  'fees': [['0', '0.2'],\n",
       "   ['50000', '0.16'],\n",
       "   ['100000', '0.12'],\n",
       "   ['250000', '0.08'],\n",
       "   ['500000', '0.04'],\n",
       "   ['1000000', '0.0']],\n",
       "  'fees_maker': [['0', '0.2'],\n",
       "   ['50000', '0.16'],\n",
       "   ['100000', '0.12'],\n",
       "   ['250000', '0.08'],\n",
       "   ['500000', '0.04'],\n",
       "   ['1000000', '0.0']],\n",
       "  'fee_volume_currency': 'ZUSD',\n",
       "  'margin_call': '80',\n",
       "  'margin_stop': '40',\n",
       "  'ordermin': '5'},\n",
       " 'altname': 'USTUSDT',\n",
       " 'type': 'spot',\n",
       " 'spot': True,\n",
       " 'active': True}"
      ]
     },
     "execution_count": 58,
     "metadata": {},
     "output_type": "execute_result"
    }
   ],
   "source": [
    "markets = ex.markets\n",
    "markets['UST/USDT']\n"
   ]
  },
  {
   "cell_type": "code",
   "execution_count": 46,
   "id": "d1071299",
   "metadata": {},
   "outputs": [
    {
     "data": {
      "text/plain": [
       "5.0"
      ]
     },
     "execution_count": 46,
     "metadata": {},
     "output_type": "execute_result"
    }
   ],
   "source": [
    "markets['UST/USDT']['limits']['amount']['min']\n"
   ]
  },
  {
   "cell_type": "code",
   "execution_count": 49,
   "id": "3553b05f",
   "metadata": {},
   "outputs": [],
   "source": [
    "res = ex.create_market_sell_order('UST/USDT',balance['total']['UST'])"
   ]
  },
  {
   "cell_type": "code",
   "execution_count": 50,
   "id": "06dad130",
   "metadata": {},
   "outputs": [
    {
     "data": {
      "text/plain": [
       "{'id': 'OVPNWR-WGTE4-QGEEMB',\n",
       " 'clientOrderId': None,\n",
       " 'info': {'txid': ['OVPNWR-WGTE4-QGEEMB'],\n",
       "  'descr': {'order': 'sell 27.46872751 USTUSDT @ market'}},\n",
       " 'timestamp': None,\n",
       " 'datetime': None,\n",
       " 'lastTradeTimestamp': None,\n",
       " 'status': None,\n",
       " 'symbol': 'UST/USDT',\n",
       " 'type': 'market',\n",
       " 'timeInForce': None,\n",
       " 'postOnly': None,\n",
       " 'side': 'sell',\n",
       " 'price': None,\n",
       " 'stopPrice': None,\n",
       " 'cost': None,\n",
       " 'amount': 27.46872751,\n",
       " 'filled': None,\n",
       " 'average': None,\n",
       " 'remaining': None,\n",
       " 'fee': None,\n",
       " 'trades': None,\n",
       " 'fees': []}"
      ]
     },
     "execution_count": 50,
     "metadata": {},
     "output_type": "execute_result"
    }
   ],
   "source": [
    "res"
   ]
  },
  {
   "cell_type": "code",
   "execution_count": 57,
   "id": "c8ae7ce7",
   "metadata": {},
   "outputs": [
    {
     "name": "stdout",
     "output_type": "stream",
     "text": [
      "minimum not reached\n"
     ]
    }
   ],
   "source": [
    "# script to watch usdt and convert to ust\n",
    "balance = ex.fetch_balance()\n",
    "ust_min  = markets['UST/USDT']['limits']['amount']['min']\n",
    "total_usdt = balance['total']['USDT']\n",
    "trade_amount = get_perc_amount(total_usdt  * get_price(\"UST/USDT\",ex) , 0.99)\n",
    "formated = ex.amount_to_precision(\"UST/USDT\",trade_amount)\n",
    "if float(trade_amount) > float(ust_min):\n",
    "    print(\"can be traded\")\n",
    "    res = ex.create_market_buy_order('UST/USDT',trade_amount)\n",
    "    print(res)\n",
    "else:\n",
    "    print(\"minimum not reached\")\n"
   ]
  },
  {
   "cell_type": "code",
   "execution_count": 60,
   "id": "96efb5fc",
   "metadata": {},
   "outputs": [
    {
     "ename": "ExchangeError",
     "evalue": "kraken withdraw() requires a 'key' parameter(withdrawal key name, as set up on your account)",
     "output_type": "error",
     "traceback": [
      "\u001b[0;31m---------------------------------------------------------------------------\u001b[0m",
      "\u001b[0;31mExchangeError\u001b[0m                             Traceback (most recent call last)",
      "\u001b[0;32m<ipython-input-60-0034c3946c09>\u001b[0m in \u001b[0;36m<module>\u001b[0;34m\u001b[0m\n\u001b[1;32m      1\u001b[0m \u001b[0madd\u001b[0m \u001b[0;34m=\u001b[0m \u001b[0;34m\"terra1f2fgl9wyuz8k2qdj2ywtk3ksz7qgxvdcs2y7xd\"\u001b[0m\u001b[0;34m\u001b[0m\u001b[0;34m\u001b[0m\u001b[0m\n\u001b[0;32m----> 2\u001b[0;31m \u001b[0mw\u001b[0m \u001b[0;34m=\u001b[0m \u001b[0mex\u001b[0m\u001b[0;34m.\u001b[0m\u001b[0mwithdraw\u001b[0m\u001b[0;34m(\u001b[0m\u001b[0;34m\"UST\"\u001b[0m\u001b[0;34m,\u001b[0m\u001b[0;34m\"2\"\u001b[0m\u001b[0;34m,\u001b[0m\u001b[0madd\u001b[0m\u001b[0;34m)\u001b[0m\u001b[0;34m\u001b[0m\u001b[0;34m\u001b[0m\u001b[0m\n\u001b[0m",
      "\u001b[0;32m~/Documents/anaconda/anaconda3/lib/python3.8/site-packages/ccxt/kraken.py\u001b[0m in \u001b[0;36mwithdraw\u001b[0;34m(self, code, amount, address, tag, params)\u001b[0m\n\u001b[1;32m   1798\u001b[0m                 \u001b[0;34m'id'\u001b[0m\u001b[0;34m:\u001b[0m \u001b[0mid\u001b[0m\u001b[0;34m,\u001b[0m\u001b[0;34m\u001b[0m\u001b[0;34m\u001b[0m\u001b[0m\n\u001b[1;32m   1799\u001b[0m             }\n\u001b[0;32m-> 1800\u001b[0;31m         \u001b[0;32mraise\u001b[0m \u001b[0mExchangeError\u001b[0m\u001b[0;34m(\u001b[0m\u001b[0mself\u001b[0m\u001b[0;34m.\u001b[0m\u001b[0mid\u001b[0m \u001b[0;34m+\u001b[0m \u001b[0;34m\" withdraw() requires a 'key' parameter(withdrawal key name, as set up on your account)\"\u001b[0m\u001b[0;34m)\u001b[0m\u001b[0;34m\u001b[0m\u001b[0;34m\u001b[0m\u001b[0m\n\u001b[0m\u001b[1;32m   1801\u001b[0m \u001b[0;34m\u001b[0m\u001b[0m\n\u001b[1;32m   1802\u001b[0m     \u001b[0;32mdef\u001b[0m \u001b[0mfetch_positions\u001b[0m\u001b[0;34m(\u001b[0m\u001b[0mself\u001b[0m\u001b[0;34m,\u001b[0m \u001b[0msymbols\u001b[0m\u001b[0;34m=\u001b[0m\u001b[0;32mNone\u001b[0m\u001b[0;34m,\u001b[0m \u001b[0mparams\u001b[0m\u001b[0;34m=\u001b[0m\u001b[0;34m{\u001b[0m\u001b[0;34m}\u001b[0m\u001b[0;34m)\u001b[0m\u001b[0;34m:\u001b[0m\u001b[0;34m\u001b[0m\u001b[0;34m\u001b[0m\u001b[0m\n",
      "\u001b[0;31mExchangeError\u001b[0m: kraken withdraw() requires a 'key' parameter(withdrawal key name, as set up on your account)"
     ]
    }
   ],
   "source": [
    "add = \"terra1f2fgl9wyuz8k2qdj2ywtk3ksz7qgxvdcs2y7xd\"\n",
    "w = ex.withdraw(\"UST\",\"2\",add)"
   ]
  },
  {
   "cell_type": "code",
   "execution_count": null,
   "id": "3ac81a26",
   "metadata": {},
   "outputs": [],
   "source": []
  }
 ],
 "metadata": {
  "kernelspec": {
   "display_name": "Python 3",
   "language": "python",
   "name": "python3"
  },
  "language_info": {
   "codemirror_mode": {
    "name": "ipython",
    "version": 3
   },
   "file_extension": ".py",
   "mimetype": "text/x-python",
   "name": "python",
   "nbconvert_exporter": "python",
   "pygments_lexer": "ipython3",
   "version": "3.8.8"
  }
 },
 "nbformat": 4,
 "nbformat_minor": 5
}
